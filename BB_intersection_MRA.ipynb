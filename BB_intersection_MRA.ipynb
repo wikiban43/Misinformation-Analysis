{
  "cells": [
    {
      "cell_type": "markdown",
      "metadata": {
        "id": "view-in-github",
        "colab_type": "text"
      },
      "source": [
        "<a href=\"https://colab.research.google.com/github/wikiban43/Misinformation-Analysis/blob/main/BB_intersection_MRA.ipynb\" target=\"_parent\"><img src=\"https://colab.research.google.com/assets/colab-badge.svg\" alt=\"Open In Colab\"/></a>"
      ]
    },
    {
      "cell_type": "code",
      "execution_count": null,
      "metadata": {
        "colab": {
          "base_uri": "https://localhost:8080/"
        },
        "id": "Hej0xAKDQX4O",
        "outputId": "ae63508e-4c7e-4a76-a6bf-5ee66b4dd9f5"
      },
      "outputs": [
        {
          "output_type": "stream",
          "name": "stdout",
          "text": [
            "Mounted at /content/drive\n"
          ]
        }
      ],
      "source": [
        "from google.colab import drive\n",
        "import pickle\n",
        "drive.mount('/content/drive')\n",
        "\n",
        "path = 'drive/My Drive/MSR/ICWSM_Community_Overlap/'\n",
        "path3 = 'drive/My Drive/MSR/ACM COMPASS 2023/'\n",
        "\n",
        "#DATA READING (Following)\n",
        "\n",
        "rting_bridge_following_CJI_MRA = pickle.load(open(path3+'bridge_users_RTing_following_data.pickle','rb'))\n",
        "rtd_bridge_following_CJI_MRA = pickle.load(open(path3+'bridge_users_RTd_following_data.pickle','rb'))\n",
        "s1 = set(rting_bridge_following_CJI_MRA.keys())\n",
        "s2 = set(rtd_bridge_following_CJI_MRA.keys())"
      ]
    },
    {
      "cell_type": "code",
      "execution_count": null,
      "metadata": {
        "id": "x3I3wvpmPTWq"
      },
      "outputs": [],
      "source": [
        "#DATA READING (MRA and CJI)\n",
        "import pickle\n",
        "df_mra = pickle.load(open(path+\"MRA_CJI_Core_Data/df_mra_core_tweets_Jun22.pickle\",\"rb\")).reset_index()\n",
        "df_mra = df_mra[['author_id','text','public_metrics']]\n",
        "df_cji = pickle.load(open(path+\"MRA_CJI_Core_Data/pure_cji_user_tweets.pickle\",\"rb\"))\n",
        "df_cji = df_cji[['author_id','text','public_metrics']]\n",
        "def get_public_met_data(x):\n",
        "  return x['retweet_count']\n",
        "\n",
        "df_mra['public_metrics.retweet_count'] = df_mra['public_metrics'].apply(lambda x:get_public_met_data(x))\n",
        "df_cji['public_metrics.retweet_count'] = df_cji['public_metrics'].apply(lambda x:get_public_met_data(x))\n"
      ]
    },
    {
      "cell_type": "code",
      "execution_count": null,
      "metadata": {
        "id": "GNtzGbzRf3GC"
      },
      "outputs": [],
      "source": [
        "#DATA READING (BB)\n",
        "path2 = 'drive/My Drive/MSR/icwsm_datasets/'#/Prop_ICWSM/'\n",
        "import pandas as pd\n",
        "df_BB = pd.read_csv(path2+\"bollywood.csv\",low_memory=False)\n",
        "#df_BB = df_BB[['text', 'author_id', 'public_metrics.retweet_count','entities.mentions', 'author.username']]\n",
        "\n",
        "\n",
        "users_BB = list(df_BB['author_id'].unique())\n",
        "users_BB_str = [str(users_BB[i]) for i in range(0,len(users_BB))]"
      ]
    },
    {
      "cell_type": "code",
      "source": [
        "df_BB['created_at'][100:10000]"
      ],
      "metadata": {
        "colab": {
          "base_uri": "https://localhost:8080/"
        },
        "id": "GzqvO8ga8WKm",
        "outputId": "a9093658-0f70-480d-f733-4dfcd4771599"
      },
      "execution_count": null,
      "outputs": [
        {
          "output_type": "execute_result",
          "data": {
            "text/plain": [
              "100     2022-02-28T20:36:26.000Z\n",
              "101     2022-02-28T20:36:09.000Z\n",
              "102     2022-02-28T20:32:26.000Z\n",
              "103     2022-02-28T20:30:54.000Z\n",
              "104     2022-02-28T20:30:25.000Z\n",
              "                  ...           \n",
              "9995    2022-02-26T14:03:40.000Z\n",
              "9996    2022-02-26T14:03:36.000Z\n",
              "9997    2022-02-26T14:03:34.000Z\n",
              "9998    2022-02-26T14:03:21.000Z\n",
              "9999    2022-02-26T14:03:13.000Z\n",
              "Name: created_at, Length: 9900, dtype: object"
            ]
          },
          "metadata": {},
          "execution_count": 20
        }
      ]
    },
    {
      "cell_type": "code",
      "execution_count": null,
      "metadata": {
        "colab": {
          "base_uri": "https://localhost:8080/"
        },
        "id": "TVnOsfX1qUIE",
        "outputId": "86da4343-7bcb-4e7a-c288-5e26462ca8f3"
      },
      "outputs": [
        {
          "data": {
            "text/plain": [
              "4369"
            ]
          },
          "execution_count": 25,
          "metadata": {},
          "output_type": "execute_result"
        }
      ],
      "source": [
        "users_with_followings = list(rting_bridge_following_CJI_MRA.keys())\n",
        "users_with_followings.extend(list(rtd_bridge_following_CJI_MRA.keys()))\n",
        "len(users_with_followings)"
      ]
    },
    {
      "cell_type": "code",
      "execution_count": null,
      "metadata": {
        "id": "vBhAli1CnzZj"
      },
      "outputs": [],
      "source": [
        "df_BB_g = df_BB.groupby([\"author_id\"]).sum([\"public_metrics.retweet_count\"]).reset_index()\n",
        "df_BB_RT_count = df_BB[[\"author_id\",\"author.username\",\"public_metrics.retweet_count\"]]\n",
        "df_BB_RT_count = df_BB_RT_count.sort_values(by=\"public_metrics.retweet_count\",ascending=False).reset_index()\n",
        "df_BB_RT_count['author_id'] = df_BB_RT_count['author_id'].astype('string')"
      ]
    },
    {
      "cell_type": "code",
      "execution_count": null,
      "metadata": {
        "id": "TFxnpgnPVAts"
      },
      "outputs": [],
      "source": [
        "import os\n",
        "import pickle\n",
        "#os.listdir(path)\n",
        "\n",
        "edges_mra = pickle.load(open(path+\"edges_mra.pickle\",\"rb\"))\n",
        "edges_cji = pickle.load(open(path+\"edges_cji.pickle\",\"rb\"))"
      ]
    },
    {
      "cell_type": "code",
      "execution_count": null,
      "metadata": {
        "id": "hKm1Z5UIVap1"
      },
      "outputs": [],
      "source": [
        "#Get the unique users in the MRA-CJI network\n",
        "\n",
        "user_set_mracji = set()\n",
        "for edge in edges_mra:\n",
        "  u1 = edge[0]\n",
        "  u2 = edge[1]\n",
        "  user_set_mracji.add(u1)\n",
        "  user_set_mracji.add(u2)\n",
        "\n",
        "for edge in edges_cji:\n",
        "  u1 = edge[0]\n",
        "  u2 = edge[1]\n",
        "  user_set_mracji.add(u1)\n",
        "  user_set_mracji.add(u2)\n",
        "\n",
        "\n",
        "len(user_set_mracji)"
      ]
    },
    {
      "cell_type": "code",
      "execution_count": null,
      "metadata": {
        "id": "H2Cf74vDamed"
      },
      "outputs": [],
      "source": [
        "#Find common users in MRA, CJI, and BB dataframes\n",
        "common_users1 = set(users_BB_str).intersection(user_set_mracji)\n",
        "len(common_users1)\n",
        "common_users = common_users1"
      ]
    },
    {
      "cell_type": "code",
      "execution_count": null,
      "metadata": {
        "id": "LZdibSHcjktL"
      },
      "outputs": [],
      "source": [
        "df_BB_RT_count.head()"
      ]
    },
    {
      "cell_type": "code",
      "execution_count": null,
      "metadata": {
        "id": "goAKKCNQo1Yw"
      },
      "outputs": [],
      "source": [
        "df_common = df_BB_RT_count[df_BB_RT_count['author_id'].isin(common_users)].reset_index(drop=True)\n",
        "df_common.loc[df_common['public_metrics.retweet_count']>=50]['author_id'].nunique()"
      ]
    },
    {
      "cell_type": "code",
      "execution_count": null,
      "metadata": {
        "id": "ou5FhA9-nG6M"
      },
      "outputs": [],
      "source": [
        "df_common.columns"
      ]
    },
    {
      "cell_type": "code",
      "execution_count": null,
      "metadata": {
        "id": "o1sDoe5wv7Nc"
      },
      "outputs": [],
      "source": [
        "!pip3 install advertools"
      ]
    },
    {
      "cell_type": "code",
      "execution_count": null,
      "metadata": {
        "id": "OZuEuojKTrVY"
      },
      "outputs": [],
      "source": [
        "#Find if BB has any hashtags from MRA-CJI\n",
        "\n",
        "import ast\n",
        "import math\n",
        "import advertools as adv\n",
        "\n",
        "def get_hashtags(l):\n",
        "  temp_l=[]\n",
        "  #print(type(l))\n",
        "  #if math.isnan(l)==False:\n",
        "  if type(l)==str:\n",
        "    l = ast.literal_eval(l)\n",
        "    for item in l:\n",
        "      #print(item)\n",
        "      temp_l.append(item[\"tag\"].lower())\n",
        "    return temp_l\n",
        "  else:\n",
        "    return None\n",
        "\n",
        "df_BB[\"hashtags\"] = df_BB[\"entities.hashtags\"].apply(lambda x: get_hashtags(x))\n",
        "\n",
        "\n",
        "cji_unique_ht = set([\"notmycji\", \"chandrachud\", \"protestatun\", \"legalgenocide\",\"2ndclasscitizens\",\"wokejudg\"])\n",
        "mra_unique_ht = set([\"ablanari\", \"menscommission\", \"niruparoy\", \"saveinnocentmen\",\"fakecases_498a_dv_125_377_376_354\"])\n",
        "\n",
        "for i in range(0,df_BB.shape[0]):\n",
        "  #print(df_BB[\"hashtags\"][i])\n",
        "  #print()\n",
        "  try:\n",
        "    if len(set(df_BB[\"hashtags\"][i]).intersection(cji_unique_ht))>0:\n",
        "      print(df_BB[\"hashtags\"][i])\n",
        "   #else:\n",
        "      #print(\"No intersection\")\n",
        "  except:\n",
        "    continue\n",
        "#df_BB[\"hashtags\"]\n",
        "\n"
      ]
    },
    {
      "cell_type": "code",
      "execution_count": null,
      "metadata": {
        "id": "1zeKZ8xswd_U"
      },
      "outputs": [],
      "source": [
        "def extract_hashtags_from_entities(text):\n",
        "  hashtag_summary = adv.extract_hashtags(text)\n",
        "  return hashtag_summary['hashtags'][0]"
      ]
    },
    {
      "cell_type": "code",
      "execution_count": null,
      "metadata": {
        "id": "ByzymNmjqrE7"
      },
      "outputs": [],
      "source": [
        "#Find if MRA and CJI have any hashtags from BB\n",
        "\n",
        "\n",
        "#df_mra[\"entities.hashtags\"] = df_mra[\"text\"].apply(lambda x: extract_hashtags_from_entities(x))\n",
        "df_cji[\"entities.hashtags\"] = df_cji[\"text\"].apply(lambda x: extract_hashtags_from_entities(x))\n",
        "bb_hashtags = ['#boycottbollywood', '#boycottbollywoodcompletely', '#boycottbollywood-forever', '#boycottalia', '#boycottgangubai','#bollywood','#boycott','#alia']\n",
        "c=0\n",
        "\n",
        "#df = df_mra\n",
        "df = df_cji\n",
        "\n",
        "for i in range(0,df.shape[0]):\n",
        "  #print(df_mra[\"hashtags\"][i])\n",
        "  #print()\n",
        "  if \"bolly\" in df[\"text\"][i]:\n",
        "    print(df[\"text\"][i])\n",
        "  try:\n",
        "    #if \"bolly\" in df_mra[\"text\"][i]:\n",
        "    #  print(df_mra[\"text\"][i])\n",
        "    #  print(\"Before intersection, hashtags in tweet:\")\n",
        "    #  print(df_mra[\"entities.hashtags\"][i])\n",
        "    #  print('\\n')\n",
        "    if len(set(df[\"entities.hashtags\"][i]).intersection(bb_hashtags))>0:\n",
        "      print(df[\"entities.hashtags\"][i])\n",
        "      c+=1\n",
        "    #else:\n",
        "    #  print(\"No intersection\")\n",
        "  except:\n",
        "    continue\n",
        "\n",
        "print(\"Number of hashtag overlap tweets:\"+str(c))"
      ]
    },
    {
      "cell_type": "code",
      "execution_count": null,
      "metadata": {
        "colab": {
          "base_uri": "https://localhost:8080/"
        },
        "id": "44j3JB-0qov2",
        "outputId": "57d9dbdb-7f5d-4060-c9a3-ebd0cde779d7"
      },
      "outputs": [
        {
          "output_type": "stream",
          "name": "stdout",
          "text": [
            "239\n",
            "54\n"
          ]
        }
      ],
      "source": [
        "#Find how many users in BB also appear in MRA-CJI set (retweet overlap: BB users tweeting/retweeting about MRA)\n",
        "\n",
        "users_MRA = set(list(df_mra['author_id'].unique()))\n",
        "users_cji = set(list(df_cji['author_id'].unique()))\n",
        "\n",
        "#users_mra_cji = users_MRA.union(users_cji)\n",
        "\n",
        "#print(len(users_mra_cji.intersection(users_BB_str)))\n",
        "#common_users = users_mra_cji.intersection(users_BB_str)\n",
        "\n",
        "common_users_MRA_BB = users_MRA.intersection(users_BB_str)\n",
        "common_users_CJI_BB = users_cji.intersection(users_BB_str)\n",
        "\n",
        "#Pairwise retweet overlap users\n",
        "print(len(common_users_MRA_BB))\n",
        "print(len(common_users_CJI_BB))\n",
        "\n",
        "#pickle.dump(common_users_MRA_BB,open(path+\"rt_overlap_users_BB_MRA.pickle\",\"wb\"))\n",
        "#pickle.dump(common_users_CJI_BB,open(path+\"rt_overlap_users_BB_CJI.pickle\",\"wb\"))"
      ]
    },
    {
      "cell_type": "code",
      "execution_count": null,
      "metadata": {
        "id": "V5LvsXWzzYhI"
      },
      "outputs": [],
      "source": [
        "#pickle.dump(common_users1,open(path+\"rt_overlap_users_BB_MRA_CJI.pickle\",\"wb\"))"
      ]
    },
    {
      "cell_type": "code",
      "execution_count": null,
      "metadata": {
        "id": "NBqSu_He42e8"
      },
      "outputs": [],
      "source": [
        "#common_users = pickle.load(open(path+\"rt_overlap_users_BB_MRA_CJI.pickle\",\"rb\"))"
      ]
    },
    {
      "cell_type": "code",
      "execution_count": null,
      "metadata": {
        "id": "GaEV6fFpspuG"
      },
      "outputs": [],
      "source": [
        "def get_retweet_count(x):\n",
        "  return x['retweet_count']"
      ]
    },
    {
      "cell_type": "code",
      "execution_count": null,
      "metadata": {
        "id": "nhf8grVXsPsV"
      },
      "outputs": [],
      "source": [
        "df_mra['public_metrics.retweet_count'] = df_mra['public_metrics'].apply(lambda x: get_retweet_count(x))\n",
        "df_cji['public_metrics.retweet_count'] = df_cji['public_metrics'].apply(lambda x: get_retweet_count(x))"
      ]
    },
    {
      "cell_type": "code",
      "execution_count": null,
      "metadata": {
        "id": "fUb-2SYzq92L"
      },
      "outputs": [],
      "source": [
        "#Form a dict of BB author names and IDs\n",
        "authorids_BB = list(df_BB['author_id'])\n",
        "usernames_BB = list(df_BB['author.username'])\n",
        "id2name = dict()\n",
        "for i in range(0,len(authorids_BB)):\n",
        "  id = authorids_BB[i]\n",
        "  id2name[id] = usernames_BB[i]\n",
        "\n",
        "pickle.dump(id2name,open(path3+\"id2name_BB.pickle\",\"wb\"))"
      ]
    },
    {
      "cell_type": "code",
      "execution_count": null,
      "metadata": {
        "colab": {
          "base_uri": "https://localhost:8080/"
        },
        "id": "zCU3o_Ktq_tu",
        "outputId": "4258a701-206a-465c-bcc8-4602d7111398"
      },
      "outputs": [
        {
          "name": "stdout",
          "output_type": "stream",
          "text": [
            "Index(['author_id', 'text', 'public_metrics', 'public_metrics.retweet_count'], dtype='object')\n",
            "                author_id  public_metrics.retweet_count\n",
            "0     1000203930914181120                          5837\n",
            "1     1000419295900422145                           422\n",
            "2               100160402                         27643\n",
            "3               100211808                          6751\n",
            "4     1002262543803469824                            87\n",
            "...                   ...                           ...\n",
            "1689   997824640155291648                         12873\n",
            "1690   997836398030974976                           352\n",
            "1691   998213347702013953                        118614\n",
            "1692   999131492533063685                          1157\n",
            "1693   999946112403431424                           952\n",
            "\n",
            "[1694 rows x 2 columns]\n",
            "Number of RT overlap users:190\n",
            "Index(['index', 'author_id', 'public_metrics.retweet_count'], dtype='object')\n",
            "Index(['author_id', 'text', 'public_metrics', 'public_metrics.retweet_count'], dtype='object')\n",
            "               author_id  public_metrics.retweet_count\n",
            "0              102969077                         71023\n",
            "1               10869322                         10683\n",
            "2    1111309063470628864                         79769\n",
            "3    1158282766213099520                         68640\n",
            "4    1158732122607067136                         16221\n",
            "..                   ...                           ...\n",
            "198   935541574896721920                         22368\n",
            "199   943140712459186177                         46287\n",
            "200   950075652312453120                          7817\n",
            "201   968750043837747202                         49977\n",
            "202   973206978607509504                         24859\n",
            "\n",
            "[203 rows x 2 columns]\n",
            "Number of RT overlap users:54\n",
            "Index(['index', 'author_id', 'public_metrics.retweet_count'], dtype='object')\n"
          ]
        }
      ],
      "source": [
        "#Form a dict of BB author names and IDs\n",
        "#authorids_BB = list(df_BB['author_id'])\n",
        "#usernames_BB = list(df_BB['author.username'])\n",
        "#id2name = dict()\n",
        "#for i in range(0,len(authorids_BB)):\n",
        "#  id = authorids_BB[i]\n",
        "#  id2name[id] = usernames_BB[i]\n",
        "\n",
        "\n",
        "#Read the id2name dict\n",
        "id2name = pickle.load(open(path3+\"id2name_BB.pickle\",\"rb\"))\n",
        "\n",
        "#Find retweet overlap user dataframes (authors are bridges)\n",
        "#NOTE: HERE WE ONLY GET DETAILS OF BRIDGES (e.g. df_MRA_BB). WE DO NOT GET THEIR NAMES OR TWEETS!\n",
        "def get_rt_overlap_df(df,common_users):\n",
        "  print(df.columns)\n",
        "  df_g = df.groupby([\"author_id\"])[\"public_metrics.retweet_count\"].sum().reset_index()\n",
        "  print(df_g)\n",
        "  df_RT_count = df_g[[\"author_id\",\"public_metrics.retweet_count\"]]\n",
        "  df_RT_count = df_g.sort_values(by=\"public_metrics.retweet_count\",ascending=False).reset_index()\n",
        "  df_RT_count['author_id'] = df_g['author_id'].astype('string')\n",
        "\n",
        "  df_common = df_RT_count[df_RT_count['author_id'].isin(common_users)].reset_index(drop=True)\n",
        "  df_common = df_common.loc[df_common['public_metrics.retweet_count']>=1000]\n",
        "  print(\"Number of RT overlap users:\"+str(df_common.shape[0]))\n",
        "  print(df_common.columns)\n",
        "  return df_common\n",
        "\n",
        "def get_uname(author_id):\n",
        "  try:\n",
        "    uname = id2name[author_id]\n",
        "  except:\n",
        "    uname = None\n",
        "  return uname\n",
        "\n",
        "#MRA-BB overlap\n",
        "df_MRA_BB = get_rt_overlap_df(df_mra,common_users_MRA_BB)\n",
        "df_MRA_BB[\"author.username\"] = df_MRA_BB[\"author_id\"].apply(lambda x: get_uname(x))\n",
        "#CJI-BB overlap\n",
        "df_CJI_BB = get_rt_overlap_df(df_cji,common_users_CJI_BB)\n",
        "df_CJI_BB[\"author.username\"] = df_CJI_BB[\"author_id\"].apply(lambda x: get_uname(x))"
      ]
    },
    {
      "cell_type": "code",
      "execution_count": null,
      "metadata": {
        "colab": {
          "base_uri": "https://localhost:8080/",
          "height": 206
        },
        "id": "mBtafVrX0a-E",
        "outputId": "5984e583-4969-4b36-cc16-1424bc6587b5"
      },
      "outputs": [
        {
          "data": {
            "text/html": [
              "\n",
              "\n",
              "  <div id=\"df-f0001adb-4843-46aa-9a74-9b35fb258209\">\n",
              "    <div class=\"colab-df-container\">\n",
              "      <div>\n",
              "<style scoped>\n",
              "    .dataframe tbody tr th:only-of-type {\n",
              "        vertical-align: middle;\n",
              "    }\n",
              "\n",
              "    .dataframe tbody tr th {\n",
              "        vertical-align: top;\n",
              "    }\n",
              "\n",
              "    .dataframe thead th {\n",
              "        text-align: right;\n",
              "    }\n",
              "</style>\n",
              "<table border=\"1\" class=\"dataframe\">\n",
              "  <thead>\n",
              "    <tr style=\"text-align: right;\">\n",
              "      <th></th>\n",
              "      <th>index</th>\n",
              "      <th>author_id</th>\n",
              "      <th>public_metrics.retweet_count</th>\n",
              "      <th>author.username</th>\n",
              "    </tr>\n",
              "  </thead>\n",
              "  <tbody>\n",
              "    <tr>\n",
              "      <th>0</th>\n",
              "      <td>391</td>\n",
              "      <td>1000203930914181120</td>\n",
              "      <td>1075790</td>\n",
              "      <td>None</td>\n",
              "    </tr>\n",
              "    <tr>\n",
              "      <th>1</th>\n",
              "      <td>977</td>\n",
              "      <td>1003036784710713344</td>\n",
              "      <td>314269</td>\n",
              "      <td>None</td>\n",
              "    </tr>\n",
              "    <tr>\n",
              "      <th>2</th>\n",
              "      <td>1344</td>\n",
              "      <td>1003843509692977152</td>\n",
              "      <td>269723</td>\n",
              "      <td>None</td>\n",
              "    </tr>\n",
              "    <tr>\n",
              "      <th>3</th>\n",
              "      <td>751</td>\n",
              "      <td>1005687262548357120</td>\n",
              "      <td>269600</td>\n",
              "      <td>None</td>\n",
              "    </tr>\n",
              "    <tr>\n",
              "      <th>4</th>\n",
              "      <td>745</td>\n",
              "      <td>1010907061255852032</td>\n",
              "      <td>222580</td>\n",
              "      <td>None</td>\n",
              "    </tr>\n",
              "  </tbody>\n",
              "</table>\n",
              "</div>\n",
              "      <button class=\"colab-df-convert\" onclick=\"convertToInteractive('df-f0001adb-4843-46aa-9a74-9b35fb258209')\"\n",
              "              title=\"Convert this dataframe to an interactive table.\"\n",
              "              style=\"display:none;\">\n",
              "\n",
              "  <svg xmlns=\"http://www.w3.org/2000/svg\" height=\"24px\"viewBox=\"0 0 24 24\"\n",
              "       width=\"24px\">\n",
              "    <path d=\"M0 0h24v24H0V0z\" fill=\"none\"/>\n",
              "    <path d=\"M18.56 5.44l.94 2.06.94-2.06 2.06-.94-2.06-.94-.94-2.06-.94 2.06-2.06.94zm-11 1L8.5 8.5l.94-2.06 2.06-.94-2.06-.94L8.5 2.5l-.94 2.06-2.06.94zm10 10l.94 2.06.94-2.06 2.06-.94-2.06-.94-.94-2.06-.94 2.06-2.06.94z\"/><path d=\"M17.41 7.96l-1.37-1.37c-.4-.4-.92-.59-1.43-.59-.52 0-1.04.2-1.43.59L10.3 9.45l-7.72 7.72c-.78.78-.78 2.05 0 2.83L4 21.41c.39.39.9.59 1.41.59.51 0 1.02-.2 1.41-.59l7.78-7.78 2.81-2.81c.8-.78.8-2.07 0-2.86zM5.41 20L4 18.59l7.72-7.72 1.47 1.35L5.41 20z\"/>\n",
              "  </svg>\n",
              "      </button>\n",
              "\n",
              "\n",
              "\n",
              "    <div id=\"df-56ef80da-03bd-4af3-a0ce-838068835b08\">\n",
              "      <button class=\"colab-df-quickchart\" onclick=\"quickchart('df-56ef80da-03bd-4af3-a0ce-838068835b08')\"\n",
              "              title=\"Suggest charts.\"\n",
              "              style=\"display:none;\">\n",
              "\n",
              "<svg xmlns=\"http://www.w3.org/2000/svg\" height=\"24px\"viewBox=\"0 0 24 24\"\n",
              "     width=\"24px\">\n",
              "    <g>\n",
              "        <path d=\"M19 3H5c-1.1 0-2 .9-2 2v14c0 1.1.9 2 2 2h14c1.1 0 2-.9 2-2V5c0-1.1-.9-2-2-2zM9 17H7v-7h2v7zm4 0h-2V7h2v10zm4 0h-2v-4h2v4z\"/>\n",
              "    </g>\n",
              "</svg>\n",
              "      </button>\n",
              "    </div>\n",
              "\n",
              "<style>\n",
              "  .colab-df-quickchart {\n",
              "    background-color: #E8F0FE;\n",
              "    border: none;\n",
              "    border-radius: 50%;\n",
              "    cursor: pointer;\n",
              "    display: none;\n",
              "    fill: #1967D2;\n",
              "    height: 32px;\n",
              "    padding: 0 0 0 0;\n",
              "    width: 32px;\n",
              "  }\n",
              "\n",
              "  .colab-df-quickchart:hover {\n",
              "    background-color: #E2EBFA;\n",
              "    box-shadow: 0px 1px 2px rgba(60, 64, 67, 0.3), 0px 1px 3px 1px rgba(60, 64, 67, 0.15);\n",
              "    fill: #174EA6;\n",
              "  }\n",
              "\n",
              "  [theme=dark] .colab-df-quickchart {\n",
              "    background-color: #3B4455;\n",
              "    fill: #D2E3FC;\n",
              "  }\n",
              "\n",
              "  [theme=dark] .colab-df-quickchart:hover {\n",
              "    background-color: #434B5C;\n",
              "    box-shadow: 0px 1px 3px 1px rgba(0, 0, 0, 0.15);\n",
              "    filter: drop-shadow(0px 1px 2px rgba(0, 0, 0, 0.3));\n",
              "    fill: #FFFFFF;\n",
              "  }\n",
              "</style>\n",
              "\n",
              "    <script>\n",
              "      async function quickchart(key) {\n",
              "        const containerElement = document.querySelector('#' + key);\n",
              "        const charts = await google.colab.kernel.invokeFunction(\n",
              "            'suggestCharts', [key], {});\n",
              "      }\n",
              "    </script>\n",
              "\n",
              "      <script>\n",
              "\n",
              "function displayQuickchartButton(domScope) {\n",
              "  let quickchartButtonEl =\n",
              "    domScope.querySelector('#df-56ef80da-03bd-4af3-a0ce-838068835b08 button.colab-df-quickchart');\n",
              "  quickchartButtonEl.style.display =\n",
              "    google.colab.kernel.accessAllowed ? 'block' : 'none';\n",
              "}\n",
              "\n",
              "        displayQuickchartButton(document);\n",
              "      </script>\n",
              "      <style>\n",
              "    .colab-df-container {\n",
              "      display:flex;\n",
              "      flex-wrap:wrap;\n",
              "      gap: 12px;\n",
              "    }\n",
              "\n",
              "    .colab-df-convert {\n",
              "      background-color: #E8F0FE;\n",
              "      border: none;\n",
              "      border-radius: 50%;\n",
              "      cursor: pointer;\n",
              "      display: none;\n",
              "      fill: #1967D2;\n",
              "      height: 32px;\n",
              "      padding: 0 0 0 0;\n",
              "      width: 32px;\n",
              "    }\n",
              "\n",
              "    .colab-df-convert:hover {\n",
              "      background-color: #E2EBFA;\n",
              "      box-shadow: 0px 1px 2px rgba(60, 64, 67, 0.3), 0px 1px 3px 1px rgba(60, 64, 67, 0.15);\n",
              "      fill: #174EA6;\n",
              "    }\n",
              "\n",
              "    [theme=dark] .colab-df-convert {\n",
              "      background-color: #3B4455;\n",
              "      fill: #D2E3FC;\n",
              "    }\n",
              "\n",
              "    [theme=dark] .colab-df-convert:hover {\n",
              "      background-color: #434B5C;\n",
              "      box-shadow: 0px 1px 3px 1px rgba(0, 0, 0, 0.15);\n",
              "      filter: drop-shadow(0px 1px 2px rgba(0, 0, 0, 0.3));\n",
              "      fill: #FFFFFF;\n",
              "    }\n",
              "  </style>\n",
              "\n",
              "      <script>\n",
              "        const buttonEl =\n",
              "          document.querySelector('#df-f0001adb-4843-46aa-9a74-9b35fb258209 button.colab-df-convert');\n",
              "        buttonEl.style.display =\n",
              "          google.colab.kernel.accessAllowed ? 'block' : 'none';\n",
              "\n",
              "        async function convertToInteractive(key) {\n",
              "          const element = document.querySelector('#df-f0001adb-4843-46aa-9a74-9b35fb258209');\n",
              "          const dataTable =\n",
              "            await google.colab.kernel.invokeFunction('convertToInteractive',\n",
              "                                                     [key], {});\n",
              "          if (!dataTable) return;\n",
              "\n",
              "          const docLinkHtml = 'Like what you see? Visit the ' +\n",
              "            '<a target=\"_blank\" href=https://colab.research.google.com/notebooks/data_table.ipynb>data table notebook</a>'\n",
              "            + ' to learn more about interactive tables.';\n",
              "          element.innerHTML = '';\n",
              "          dataTable['output_type'] = 'display_data';\n",
              "          await google.colab.output.renderOutput(dataTable, element);\n",
              "          const docLink = document.createElement('div');\n",
              "          docLink.innerHTML = docLinkHtml;\n",
              "          element.appendChild(docLink);\n",
              "        }\n",
              "      </script>\n",
              "    </div>\n",
              "  </div>\n"
            ],
            "text/plain": [
              "   index            author_id  public_metrics.retweet_count author.username\n",
              "0    391  1000203930914181120                       1075790            None\n",
              "1    977  1003036784710713344                        314269            None\n",
              "2   1344  1003843509692977152                        269723            None\n",
              "3    751  1005687262548357120                        269600            None\n",
              "4    745  1010907061255852032                        222580            None"
            ]
          },
          "execution_count": 25,
          "metadata": {},
          "output_type": "execute_result"
        }
      ],
      "source": [
        "df_MRA_BB.head()"
      ]
    },
    {
      "cell_type": "code",
      "execution_count": null,
      "metadata": {
        "id": "oIc8TdEAtMLO"
      },
      "outputs": [],
      "source": [
        "#Not required as of now (filtering on RT count)\n",
        "#df_common = df_RT_count[df_RT_count['author_id'].isin(common_users)].reset_index(drop=True)\n",
        "#df_common = df_common.loc[df_common['public_metrics.retweet_count']>=1000]\n",
        "#df_common.reset_index(inplace = True)\n",
        "#df_common.shape"
      ]
    },
    {
      "cell_type": "markdown",
      "metadata": {
        "id": "9Jw4pNhTJP2D"
      },
      "source": [
        "## Getting the number of politicians (Nivaduck members) in the MRA-CJI-BB overlap"
      ]
    },
    {
      "cell_type": "code",
      "execution_count": null,
      "metadata": {
        "id": "7TjdLRgeGcp5"
      },
      "outputs": [],
      "source": [
        "import pandas as pd\n",
        "path2 = 'drive/My Drive/MSR/ACM COMPASS 2023/'\n",
        "df_pol = pd.read_excel(path2+\"politicians.xlsx\")\n",
        "\n",
        "def get_party(user,arg='name'):\n",
        "  if arg == 'name':\n",
        "    try:\n",
        "      party = df_pol.loc[df_pol['username']==user]['party']\n",
        "    except:\n",
        "      party = None\n",
        "  elif arg == 'id':\n",
        "    try:\n",
        "      party = df_pol.loc[df_pol['id_str']==user]['party']\n",
        "    except:\n",
        "      party = None\n",
        "\n",
        "  return party\n"
      ]
    },
    {
      "cell_type": "code",
      "execution_count": null,
      "metadata": {
        "colab": {
          "base_uri": "https://localhost:8080/",
          "height": 206
        },
        "id": "IWDbx1Wp1m53",
        "outputId": "761b9eda-6472-45e6-8a6c-eb14ba931bbc"
      },
      "outputs": [
        {
          "data": {
            "text/html": [
              "\n",
              "\n",
              "  <div id=\"df-74e87557-df7a-4538-827b-c53f533c7336\">\n",
              "    <div class=\"colab-df-container\">\n",
              "      <div>\n",
              "<style scoped>\n",
              "    .dataframe tbody tr th:only-of-type {\n",
              "        vertical-align: middle;\n",
              "    }\n",
              "\n",
              "    .dataframe tbody tr th {\n",
              "        vertical-align: top;\n",
              "    }\n",
              "\n",
              "    .dataframe thead th {\n",
              "        text-align: right;\n",
              "    }\n",
              "</style>\n",
              "<table border=\"1\" class=\"dataframe\">\n",
              "  <thead>\n",
              "    <tr style=\"text-align: right;\">\n",
              "      <th></th>\n",
              "      <th>Unnamed: 0</th>\n",
              "      <th>index</th>\n",
              "      <th>id_str</th>\n",
              "      <th>name</th>\n",
              "      <th>username</th>\n",
              "      <th>followers</th>\n",
              "      <th>following</th>\n",
              "      <th>tweets</th>\n",
              "      <th>party</th>\n",
              "    </tr>\n",
              "  </thead>\n",
              "  <tbody>\n",
              "    <tr>\n",
              "      <th>0</th>\n",
              "      <td>0</td>\n",
              "      <td>5959</td>\n",
              "      <td>18839785</td>\n",
              "      <td>Narendra Modi</td>\n",
              "      <td>narendramodi</td>\n",
              "      <td>82434690</td>\n",
              "      <td>2448</td>\n",
              "      <td>34007</td>\n",
              "      <td>BJP</td>\n",
              "    </tr>\n",
              "    <tr>\n",
              "      <th>1</th>\n",
              "      <td>3</td>\n",
              "      <td>9856</td>\n",
              "      <td>1447949844</td>\n",
              "      <td>Amit Shah</td>\n",
              "      <td>AmitShah</td>\n",
              "      <td>30653586</td>\n",
              "      <td>311</td>\n",
              "      <td>17453</td>\n",
              "      <td>BJP</td>\n",
              "    </tr>\n",
              "    <tr>\n",
              "      <th>2</th>\n",
              "      <td>4</td>\n",
              "      <td>8157</td>\n",
              "      <td>405427035</td>\n",
              "      <td>Arvind Kejriwal</td>\n",
              "      <td>ArvindKejriwal</td>\n",
              "      <td>26371739</td>\n",
              "      <td>222</td>\n",
              "      <td>33467</td>\n",
              "      <td>AAP</td>\n",
              "    </tr>\n",
              "    <tr>\n",
              "      <th>3</th>\n",
              "      <td>5</td>\n",
              "      <td>5960</td>\n",
              "      <td>1346439824</td>\n",
              "      <td>Rajnath Singh</td>\n",
              "      <td>rajnathsingh</td>\n",
              "      <td>22841645</td>\n",
              "      <td>536</td>\n",
              "      <td>10800</td>\n",
              "      <td>BJP</td>\n",
              "    </tr>\n",
              "    <tr>\n",
              "      <th>4</th>\n",
              "      <td>6</td>\n",
              "      <td>5962</td>\n",
              "      <td>3437532637</td>\n",
              "      <td>Yogi Adityanath</td>\n",
              "      <td>myogiadityanath</td>\n",
              "      <td>21660293</td>\n",
              "      <td>50</td>\n",
              "      <td>18459</td>\n",
              "      <td>BJP</td>\n",
              "    </tr>\n",
              "  </tbody>\n",
              "</table>\n",
              "</div>\n",
              "      <button class=\"colab-df-convert\" onclick=\"convertToInteractive('df-74e87557-df7a-4538-827b-c53f533c7336')\"\n",
              "              title=\"Convert this dataframe to an interactive table.\"\n",
              "              style=\"display:none;\">\n",
              "\n",
              "  <svg xmlns=\"http://www.w3.org/2000/svg\" height=\"24px\"viewBox=\"0 0 24 24\"\n",
              "       width=\"24px\">\n",
              "    <path d=\"M0 0h24v24H0V0z\" fill=\"none\"/>\n",
              "    <path d=\"M18.56 5.44l.94 2.06.94-2.06 2.06-.94-2.06-.94-.94-2.06-.94 2.06-2.06.94zm-11 1L8.5 8.5l.94-2.06 2.06-.94-2.06-.94L8.5 2.5l-.94 2.06-2.06.94zm10 10l.94 2.06.94-2.06 2.06-.94-2.06-.94-.94-2.06-.94 2.06-2.06.94z\"/><path d=\"M17.41 7.96l-1.37-1.37c-.4-.4-.92-.59-1.43-.59-.52 0-1.04.2-1.43.59L10.3 9.45l-7.72 7.72c-.78.78-.78 2.05 0 2.83L4 21.41c.39.39.9.59 1.41.59.51 0 1.02-.2 1.41-.59l7.78-7.78 2.81-2.81c.8-.78.8-2.07 0-2.86zM5.41 20L4 18.59l7.72-7.72 1.47 1.35L5.41 20z\"/>\n",
              "  </svg>\n",
              "      </button>\n",
              "\n",
              "\n",
              "\n",
              "    <div id=\"df-763bcc0a-e3ea-422d-bdf4-34017eeb9158\">\n",
              "      <button class=\"colab-df-quickchart\" onclick=\"quickchart('df-763bcc0a-e3ea-422d-bdf4-34017eeb9158')\"\n",
              "              title=\"Suggest charts.\"\n",
              "              style=\"display:none;\">\n",
              "\n",
              "<svg xmlns=\"http://www.w3.org/2000/svg\" height=\"24px\"viewBox=\"0 0 24 24\"\n",
              "     width=\"24px\">\n",
              "    <g>\n",
              "        <path d=\"M19 3H5c-1.1 0-2 .9-2 2v14c0 1.1.9 2 2 2h14c1.1 0 2-.9 2-2V5c0-1.1-.9-2-2-2zM9 17H7v-7h2v7zm4 0h-2V7h2v10zm4 0h-2v-4h2v4z\"/>\n",
              "    </g>\n",
              "</svg>\n",
              "      </button>\n",
              "    </div>\n",
              "\n",
              "<style>\n",
              "  .colab-df-quickchart {\n",
              "    background-color: #E8F0FE;\n",
              "    border: none;\n",
              "    border-radius: 50%;\n",
              "    cursor: pointer;\n",
              "    display: none;\n",
              "    fill: #1967D2;\n",
              "    height: 32px;\n",
              "    padding: 0 0 0 0;\n",
              "    width: 32px;\n",
              "  }\n",
              "\n",
              "  .colab-df-quickchart:hover {\n",
              "    background-color: #E2EBFA;\n",
              "    box-shadow: 0px 1px 2px rgba(60, 64, 67, 0.3), 0px 1px 3px 1px rgba(60, 64, 67, 0.15);\n",
              "    fill: #174EA6;\n",
              "  }\n",
              "\n",
              "  [theme=dark] .colab-df-quickchart {\n",
              "    background-color: #3B4455;\n",
              "    fill: #D2E3FC;\n",
              "  }\n",
              "\n",
              "  [theme=dark] .colab-df-quickchart:hover {\n",
              "    background-color: #434B5C;\n",
              "    box-shadow: 0px 1px 3px 1px rgba(0, 0, 0, 0.15);\n",
              "    filter: drop-shadow(0px 1px 2px rgba(0, 0, 0, 0.3));\n",
              "    fill: #FFFFFF;\n",
              "  }\n",
              "</style>\n",
              "\n",
              "    <script>\n",
              "      async function quickchart(key) {\n",
              "        const containerElement = document.querySelector('#' + key);\n",
              "        const charts = await google.colab.kernel.invokeFunction(\n",
              "            'suggestCharts', [key], {});\n",
              "      }\n",
              "    </script>\n",
              "\n",
              "      <script>\n",
              "\n",
              "function displayQuickchartButton(domScope) {\n",
              "  let quickchartButtonEl =\n",
              "    domScope.querySelector('#df-763bcc0a-e3ea-422d-bdf4-34017eeb9158 button.colab-df-quickchart');\n",
              "  quickchartButtonEl.style.display =\n",
              "    google.colab.kernel.accessAllowed ? 'block' : 'none';\n",
              "}\n",
              "\n",
              "        displayQuickchartButton(document);\n",
              "      </script>\n",
              "      <style>\n",
              "    .colab-df-container {\n",
              "      display:flex;\n",
              "      flex-wrap:wrap;\n",
              "      gap: 12px;\n",
              "    }\n",
              "\n",
              "    .colab-df-convert {\n",
              "      background-color: #E8F0FE;\n",
              "      border: none;\n",
              "      border-radius: 50%;\n",
              "      cursor: pointer;\n",
              "      display: none;\n",
              "      fill: #1967D2;\n",
              "      height: 32px;\n",
              "      padding: 0 0 0 0;\n",
              "      width: 32px;\n",
              "    }\n",
              "\n",
              "    .colab-df-convert:hover {\n",
              "      background-color: #E2EBFA;\n",
              "      box-shadow: 0px 1px 2px rgba(60, 64, 67, 0.3), 0px 1px 3px 1px rgba(60, 64, 67, 0.15);\n",
              "      fill: #174EA6;\n",
              "    }\n",
              "\n",
              "    [theme=dark] .colab-df-convert {\n",
              "      background-color: #3B4455;\n",
              "      fill: #D2E3FC;\n",
              "    }\n",
              "\n",
              "    [theme=dark] .colab-df-convert:hover {\n",
              "      background-color: #434B5C;\n",
              "      box-shadow: 0px 1px 3px 1px rgba(0, 0, 0, 0.15);\n",
              "      filter: drop-shadow(0px 1px 2px rgba(0, 0, 0, 0.3));\n",
              "      fill: #FFFFFF;\n",
              "    }\n",
              "  </style>\n",
              "\n",
              "      <script>\n",
              "        const buttonEl =\n",
              "          document.querySelector('#df-74e87557-df7a-4538-827b-c53f533c7336 button.colab-df-convert');\n",
              "        buttonEl.style.display =\n",
              "          google.colab.kernel.accessAllowed ? 'block' : 'none';\n",
              "\n",
              "        async function convertToInteractive(key) {\n",
              "          const element = document.querySelector('#df-74e87557-df7a-4538-827b-c53f533c7336');\n",
              "          const dataTable =\n",
              "            await google.colab.kernel.invokeFunction('convertToInteractive',\n",
              "                                                     [key], {});\n",
              "          if (!dataTable) return;\n",
              "\n",
              "          const docLinkHtml = 'Like what you see? Visit the ' +\n",
              "            '<a target=\"_blank\" href=https://colab.research.google.com/notebooks/data_table.ipynb>data table notebook</a>'\n",
              "            + ' to learn more about interactive tables.';\n",
              "          element.innerHTML = '';\n",
              "          dataTable['output_type'] = 'display_data';\n",
              "          await google.colab.output.renderOutput(dataTable, element);\n",
              "          const docLink = document.createElement('div');\n",
              "          docLink.innerHTML = docLinkHtml;\n",
              "          element.appendChild(docLink);\n",
              "        }\n",
              "      </script>\n",
              "    </div>\n",
              "  </div>\n"
            ],
            "text/plain": [
              "   Unnamed: 0  index      id_str             name         username  followers  \\\n",
              "0           0   5959    18839785    Narendra Modi     narendramodi   82434690   \n",
              "1           3   9856  1447949844        Amit Shah         AmitShah   30653586   \n",
              "2           4   8157   405427035  Arvind Kejriwal   ArvindKejriwal   26371739   \n",
              "3           5   5960  1346439824    Rajnath Singh     rajnathsingh   22841645   \n",
              "4           6   5962  3437532637  Yogi Adityanath  myogiadityanath   21660293   \n",
              "\n",
              "   following  tweets party  \n",
              "0       2448   34007   BJP  \n",
              "1        311   17453   BJP  \n",
              "2        222   33467   AAP  \n",
              "3        536   10800   BJP  \n",
              "4         50   18459   BJP  "
            ]
          },
          "execution_count": 4,
          "metadata": {},
          "output_type": "execute_result"
        }
      ],
      "source": [
        "df_pol.head()"
      ]
    },
    {
      "cell_type": "markdown",
      "metadata": {
        "id": "SCMyNTJiZo7p"
      },
      "source": [
        "# Getting the RTing and RTed people of bridge users"
      ]
    },
    {
      "cell_type": "code",
      "execution_count": null,
      "metadata": {
        "id": "LddBBPk8Z0Q9"
      },
      "outputs": [],
      "source": [
        "#Get RTed user names\n",
        "def get_RTed_account(tweet):\n",
        "  #print(\"#\")\n",
        "  #print(tweet)\n",
        "  if tweet[0:2] == \"RT\":\n",
        "    tweet_l = tweet.split(': ')\n",
        "    #try:\n",
        "    #print(tweet_l)\n",
        "    rted_username = tweet_l[0].split(' ')[1].replace('@','')\n",
        "    #except:\n",
        "    #  print(tweet_l[0])\n",
        "    #print(rted_username)\n",
        "    return rted_username\n",
        "\n",
        "#Convert author field to string for all dfs\n",
        "df_BB['author_id'] = df_BB['author_id'].astype(str)\n",
        "df_cji['author_id'] = df_cji['author_id'].astype(str)\n",
        "df_mra['author_id'] = df_mra['author_id'].astype(str)\n",
        "\n",
        "\n",
        "\n",
        "\n",
        "#Filter dfs on bridge users (MRA-BB)\n",
        "df_BB_MRA_bridges_in_BB = df_BB.loc[df_BB['author_id'].isin(list(df_MRA_BB['author_id']))]\n",
        "df_BB_MRA_bridges_in_MRA = df_mra.loc[df_mra['author_id'].isin(list(df_MRA_BB['author_id']))]\n",
        "#Filter dfs on bridge users (CJI-BB)\n",
        "df_BB_CJI_bridges_in_BB = df_BB.loc[df_BB['author_id'].isin(list(df_CJI_BB['author_id']))]\n",
        "df_BB_CJI_bridges_in_CJI = df_cji.loc[df_cji['author_id'].isin(list(df_CJI_BB['author_id']))]\n",
        "\n",
        "#Get the retweeted users in each dataframe (here, the authors are bridges.)\n",
        "df_BB_MRA_bridges_in_BB[\"retweeted_username\"] = df_BB[\"text\"].apply(lambda x: get_RTed_account(x))\n",
        "df_BB_MRA_bridges_in_MRA[\"retweeted_username\"] = df_cji[\"text\"].apply(lambda x: get_RTed_account(x))\n",
        "df_BB_CJI_bridges_in_BB[\"retweeted_username\"] = df_mra[\"text\"].apply(lambda x: get_RTed_account(x))\n",
        "df_BB_CJI_bridges_in_CJI[\"retweeted_username\"] = df_mra[\"text\"].apply(lambda x: get_RTed_account(x))\n",
        "\n",
        "\n",
        "\n",
        "\n",
        "#get_RTed_account(df_BB[\"text\"][1])\n",
        "#df_BB.head()\n",
        "\n",
        "df_BB_MRA_bridges = pd.concat([df_BB_MRA_bridges_in_BB,df_BB_MRA_bridges_in_MRA],axis=0)\n",
        "df_BB_CJI_bridges = pd.concat([df_BB_CJI_bridges_in_BB,df_BB_CJI_bridges_in_CJI],axis=0)\n",
        "df_BB_MRA_bridges = df_BB_MRA_bridges[['author_id','author.username','text','public_metrics.retweet_count','retweeted_username']]\n",
        "df_BB_CJI_bridges = df_BB_CJI_bridges[['author_id','author.username','text','public_metrics.retweet_count','retweeted_username']]\n",
        "#AGAIN NO NEED! GET RETWEETED INFORMATION FROM HERE.\n",
        "pickle.dump(df_BB_MRA_bridges,open(path3+\"df_BB_MRA_bridges.pickle\",\"wb\"))\n",
        "pickle.dump(df_BB_CJI_bridges,open(path3+\"df_BB_CJI_bridges.pickle\",\"wb\"))"
      ]
    },
    {
      "cell_type": "code",
      "execution_count": null,
      "metadata": {
        "id": "GLzXaLwz3D8J"
      },
      "outputs": [],
      "source": [
        "df_BB_MRA_bridges = pd.concat([df_BB_MRA_bridges_in_BB,df_BB_MRA_bridges_in_MRA],axis=0)\n",
        "df_BB_CJI_bridges = pd.concat([df_BB_CJI_bridges_in_BB,df_BB_CJI_bridges_in_CJI],axis=0)\n",
        "#Get the political alignment based on membership of rewteeted users in Nivaduck\n",
        "df_BB_MRA_bridges['retweeted_user_party'] = df_BB_MRA_bridges['retweeted_username'].apply(lambda x:get_party(x))\n",
        "df_BB_CJI_bridges['retweeted_user_party'] = df_BB_CJI_bridges['retweeted_username'].apply(lambda x:get_party(x))\n",
        "\n"
      ]
    },
    {
      "cell_type": "code",
      "execution_count": null,
      "metadata": {
        "id": "tV3DCmuL5LPZ"
      },
      "outputs": [],
      "source": [
        "#############################################\n",
        "#NO NEED TO RUN PREVIOUS CODE. RUN FROM HERE.\n",
        "#HERE WE GET BRIDGE TWEETS AND NAMES AS WELL.\n",
        "#############################################\n",
        "#pickle.dump(df_BB_MRA_bridges,open(path2+\"BB_MRA_bridges.pickle\",\"wb\"))\n",
        "#pickle.dump(df_BB_CJI_bridges,open(path2+\"BB_CJI_bridges.pickle\",\"wb\"))\n",
        "import pickle\n",
        "\n",
        "df_BB_MRA_bridges = pickle.load(open(path3+\"BB_MRA_bridges.pickle\",\"rb\"))\n",
        "df_BB_CJI_bridges = pickle.load(open(path3+\"BB_CJI_bridges.pickle\",\"rb\"))"
      ]
    },
    {
      "cell_type": "code",
      "source": [
        "df_BB_MRA_bridges['author_id'].nunique()"
      ],
      "metadata": {
        "colab": {
          "base_uri": "https://localhost:8080/"
        },
        "id": "EkTXbQPXzS52",
        "outputId": "9761b1cd-7f27-4a0c-dcb1-454110957b92"
      },
      "execution_count": null,
      "outputs": [
        {
          "output_type": "execute_result",
          "data": {
            "text/plain": [
              "190"
            ]
          },
          "metadata": {},
          "execution_count": 6
        }
      ]
    },
    {
      "cell_type": "code",
      "execution_count": null,
      "metadata": {
        "id": "ebx7kRp6moj8"
      },
      "outputs": [],
      "source": [
        "#Check how many retweeted users by the bridges have ID information in BB data\n",
        "import pickle\n",
        "id2name = pickle.load(open(path3+\"id2name_BB.pickle\",\"rb\"))\n",
        "\n",
        "name2id = dict()\n",
        "for key in id2name.keys():\n",
        "  name2id[id2name[key]] = str(key)\n",
        "#Set of user IDs in following data\n",
        "s = s1.union(s2)\n",
        "\n",
        "def get_following_data_avl_rted_name(username):\n",
        "  #Find the ID of the rted username\n",
        "  try:\n",
        "    rted_id = name2id[username]\n",
        "  except:\n",
        "    rted_id = None\n",
        "  #Check if the rted_id is in the following data\n",
        "  if rted_id not in s:\n",
        "    rted_id = None\n",
        "  return rted_id\n",
        "\n",
        "df_BB_MRA_bridges['retweeted_userid'] = df_BB_MRA_bridges['retweeted_username'].apply(lambda x: get_following_data_avl_rted_name(x))\n",
        "df_BB_CJI_bridges['retweeted_userid'] = df_BB_CJI_bridges['retweeted_username'].apply(lambda x: get_following_data_avl_rted_name(x))\n",
        "\n",
        "s3 = set(df_BB_MRA_bridges['retweeted_username'].unique())\n",
        "s4 = set(df_BB_CJI_bridges['retweeted_username'].unique())\n",
        "\n",
        "\n",
        "\n",
        "#s5 = set()\n",
        "#for username in s3.union(s4):\n",
        "#  try:\n",
        "#    id = name2id[username]\n",
        "#    s5.add(id)\n",
        "#  except:\n",
        "#    continue\n",
        "\n",
        "#print(\"Number of retweeted users whose ID could be found:\")\n",
        "#print(len(s5))\n",
        "#print(\"Number of retweeted users present in following data:\")\n",
        "#len(s5.intersection(s))\n",
        "#len(s5.intersection(s))"
      ]
    },
    {
      "cell_type": "code",
      "execution_count": null,
      "metadata": {
        "id": "DPJLDc4dA8BM"
      },
      "outputs": [],
      "source": [
        "type(list(s5)[0])"
      ]
    },
    {
      "cell_type": "code",
      "execution_count": null,
      "metadata": {
        "colab": {
          "base_uri": "https://localhost:8080/"
        },
        "id": "18NLBR2hsYp7",
        "outputId": "5cbabda6-beaf-4c98-e853-b240d0b756f3"
      },
      "outputs": [
        {
          "data": {
            "text/plain": [
              "1324"
            ]
          },
          "execution_count": 8,
          "metadata": {},
          "output_type": "execute_result"
        }
      ],
      "source": [
        "s = s1.union(s2)\n",
        "len(s.intersection(s4))\n",
        "len(s4)"
      ]
    },
    {
      "cell_type": "code",
      "execution_count": null,
      "metadata": {
        "id": "N3v4tVTQeKYk"
      },
      "outputs": [],
      "source": [
        "#Get Rting users (kind of does the same thing as above function:- dunno why I wrote it!)\n",
        "def get_rting_users(entities):\n",
        "  if entities!=None and type(entities)==dict:\n",
        "    #print(entities)\n",
        "    if 'mentions' in entities.keys():\n",
        "      #print(entities['mentions'][0]['username'])\n",
        "      return entities['mentions'][0]['username']\n",
        "  return None\n",
        "\n",
        "#Get RTed user names\n",
        "def get_RTed_account(tweet):\n",
        "  #print(\"#\")\n",
        "  #print(tweet)\n",
        "  if tweet[0:2] == \"RT\":\n",
        "    tweet_l = tweet.split(': ')\n",
        "    #try:\n",
        "    #print(tweet_l)\n",
        "    rted_username = tweet_l[0].split(' ')[1].replace('@','')\n",
        "    #except:\n",
        "    #  print(tweet_l[0])\n",
        "    #print(rted_username)\n",
        "    return rted_username\n",
        "\n",
        "#Getting the retweeted users in the dfs\n",
        "df_BB[\"retweeted_username\"] = df_BB[\"text\"].apply(lambda x: get_RTed_account(x))\n",
        "df_cji[\"retweeted_username\"] = df_cji[\"text\"].apply(lambda x: get_RTed_account(x))\n",
        "df_mra[\"retweeted_username\"] = df_mra[\"text\"].apply(lambda x: get_RTed_account(x))\n",
        "\n",
        "#Filter on those retweeted users who are bridges (here, the authors are not bridges. They retweet bridges.)\n",
        "df_BB_authors_rting_BB_MRA_bridges = df_BB.loc[df_BB['retweeted_username'].isin(list(df_BB_MRA_bridges['author.username'].unique()))]\n",
        "df_CJI_authors_rting_BB_MRA_bridges = df_cji.loc[df_cji['retweeted_username'].isin(list(df_BB_MRA_bridges['author.username'].unique()))]\n",
        "df_MRA_authors_rting_BB_MRA_bridges = df_mra.loc[df_mra['retweeted_username'].isin(list(df_BB_MRA_bridges['author.username'].unique()))]\n",
        "\n",
        "df_BB_authors_rting_BB_CJI_bridges = df_BB.loc[df_BB['retweeted_username'].isin(list(df_BB_CJI_bridges['author.username'].unique()))]\n",
        "df_CJI_authors_rting_BB_CJI_bridges = df_cji.loc[df_cji['retweeted_username'].isin(list(df_BB_CJI_bridges['author.username'].unique()))]\n",
        "df_MRA_authors_rting_BB_CJI_bridges = df_mra.loc[df_mra['retweeted_username'].isin(list(df_BB_CJI_bridges['author.username'].unique()))]\n",
        "\n",
        "#type(df_mra['entities'][0].keys())"
      ]
    },
    {
      "cell_type": "code",
      "execution_count": null,
      "metadata": {
        "colab": {
          "base_uri": "https://localhost:8080/",
          "height": 206
        },
        "id": "rskXqQV6zbej",
        "outputId": "76741893-ebbb-4f9a-a863-3802dd6e7e74"
      },
      "outputs": [
        {
          "data": {
            "text/html": [
              "\n",
              "\n",
              "  <div id=\"df-1adf73b4-e5ff-4612-8969-bb0d78cd1392\">\n",
              "    <div class=\"colab-df-container\">\n",
              "      <div>\n",
              "<style scoped>\n",
              "    .dataframe tbody tr th:only-of-type {\n",
              "        vertical-align: middle;\n",
              "    }\n",
              "\n",
              "    .dataframe tbody tr th {\n",
              "        vertical-align: top;\n",
              "    }\n",
              "\n",
              "    .dataframe thead th {\n",
              "        text-align: right;\n",
              "    }\n",
              "</style>\n",
              "<table border=\"1\" class=\"dataframe\">\n",
              "  <thead>\n",
              "    <tr style=\"text-align: right;\">\n",
              "      <th></th>\n",
              "      <th>author_id</th>\n",
              "      <th>text</th>\n",
              "      <th>public_metrics</th>\n",
              "      <th>retweeted_username</th>\n",
              "      <th>public_metrics.retweet_count</th>\n",
              "    </tr>\n",
              "  </thead>\n",
              "  <tbody>\n",
              "    <tr>\n",
              "      <th>21</th>\n",
              "      <td>1532419410094333952</td>\n",
              "      <td>RT @right2men: @rashtrapatibhvn Please remove ...</td>\n",
              "      <td>{'retweet_count': 21, 'reply_count': 0, 'like_...</td>\n",
              "      <td>right2men</td>\n",
              "      <td>21</td>\n",
              "    </tr>\n",
              "    <tr>\n",
              "      <th>186</th>\n",
              "      <td>1551350142175186944</td>\n",
              "      <td>RT @ImJohnnyDepp005: #JudiciaryMustApologize f...</td>\n",
              "      <td>{'retweet_count': 287, 'reply_count': 0, 'like...</td>\n",
              "      <td>ImJohnnyDepp005</td>\n",
              "      <td>287</td>\n",
              "    </tr>\n",
              "    <tr>\n",
              "      <th>224</th>\n",
              "      <td>1522771221208776707</td>\n",
              "      <td>RT @right2men: @rashtrapatibhvn Please remove ...</td>\n",
              "      <td>{'retweet_count': 21, 'reply_count': 0, 'like_...</td>\n",
              "      <td>right2men</td>\n",
              "      <td>21</td>\n",
              "    </tr>\n",
              "    <tr>\n",
              "      <th>242</th>\n",
              "      <td>790809757397426176</td>\n",
              "      <td>RT @right2men: @rashtrapatibhvn Please remove ...</td>\n",
              "      <td>{'retweet_count': 21, 'reply_count': 0, 'like_...</td>\n",
              "      <td>right2men</td>\n",
              "      <td>21</td>\n",
              "    </tr>\n",
              "    <tr>\n",
              "      <th>380</th>\n",
              "      <td>102969077</td>\n",
              "      <td>RT @right2men: @rashtrapatibhvn Please remove ...</td>\n",
              "      <td>{'retweet_count': 21, 'reply_count': 0, 'like_...</td>\n",
              "      <td>right2men</td>\n",
              "      <td>21</td>\n",
              "    </tr>\n",
              "  </tbody>\n",
              "</table>\n",
              "</div>\n",
              "      <button class=\"colab-df-convert\" onclick=\"convertToInteractive('df-1adf73b4-e5ff-4612-8969-bb0d78cd1392')\"\n",
              "              title=\"Convert this dataframe to an interactive table.\"\n",
              "              style=\"display:none;\">\n",
              "\n",
              "  <svg xmlns=\"http://www.w3.org/2000/svg\" height=\"24px\"viewBox=\"0 0 24 24\"\n",
              "       width=\"24px\">\n",
              "    <path d=\"M0 0h24v24H0V0z\" fill=\"none\"/>\n",
              "    <path d=\"M18.56 5.44l.94 2.06.94-2.06 2.06-.94-2.06-.94-.94-2.06-.94 2.06-2.06.94zm-11 1L8.5 8.5l.94-2.06 2.06-.94-2.06-.94L8.5 2.5l-.94 2.06-2.06.94zm10 10l.94 2.06.94-2.06 2.06-.94-2.06-.94-.94-2.06-.94 2.06-2.06.94z\"/><path d=\"M17.41 7.96l-1.37-1.37c-.4-.4-.92-.59-1.43-.59-.52 0-1.04.2-1.43.59L10.3 9.45l-7.72 7.72c-.78.78-.78 2.05 0 2.83L4 21.41c.39.39.9.59 1.41.59.51 0 1.02-.2 1.41-.59l7.78-7.78 2.81-2.81c.8-.78.8-2.07 0-2.86zM5.41 20L4 18.59l7.72-7.72 1.47 1.35L5.41 20z\"/>\n",
              "  </svg>\n",
              "      </button>\n",
              "\n",
              "\n",
              "\n",
              "    <div id=\"df-d4df8c3d-1072-4ec4-83c7-c6638533ea09\">\n",
              "      <button class=\"colab-df-quickchart\" onclick=\"quickchart('df-d4df8c3d-1072-4ec4-83c7-c6638533ea09')\"\n",
              "              title=\"Suggest charts.\"\n",
              "              style=\"display:none;\">\n",
              "\n",
              "<svg xmlns=\"http://www.w3.org/2000/svg\" height=\"24px\"viewBox=\"0 0 24 24\"\n",
              "     width=\"24px\">\n",
              "    <g>\n",
              "        <path d=\"M19 3H5c-1.1 0-2 .9-2 2v14c0 1.1.9 2 2 2h14c1.1 0 2-.9 2-2V5c0-1.1-.9-2-2-2zM9 17H7v-7h2v7zm4 0h-2V7h2v10zm4 0h-2v-4h2v4z\"/>\n",
              "    </g>\n",
              "</svg>\n",
              "      </button>\n",
              "    </div>\n",
              "\n",
              "<style>\n",
              "  .colab-df-quickchart {\n",
              "    background-color: #E8F0FE;\n",
              "    border: none;\n",
              "    border-radius: 50%;\n",
              "    cursor: pointer;\n",
              "    display: none;\n",
              "    fill: #1967D2;\n",
              "    height: 32px;\n",
              "    padding: 0 0 0 0;\n",
              "    width: 32px;\n",
              "  }\n",
              "\n",
              "  .colab-df-quickchart:hover {\n",
              "    background-color: #E2EBFA;\n",
              "    box-shadow: 0px 1px 2px rgba(60, 64, 67, 0.3), 0px 1px 3px 1px rgba(60, 64, 67, 0.15);\n",
              "    fill: #174EA6;\n",
              "  }\n",
              "\n",
              "  [theme=dark] .colab-df-quickchart {\n",
              "    background-color: #3B4455;\n",
              "    fill: #D2E3FC;\n",
              "  }\n",
              "\n",
              "  [theme=dark] .colab-df-quickchart:hover {\n",
              "    background-color: #434B5C;\n",
              "    box-shadow: 0px 1px 3px 1px rgba(0, 0, 0, 0.15);\n",
              "    filter: drop-shadow(0px 1px 2px rgba(0, 0, 0, 0.3));\n",
              "    fill: #FFFFFF;\n",
              "  }\n",
              "</style>\n",
              "\n",
              "    <script>\n",
              "      async function quickchart(key) {\n",
              "        const containerElement = document.querySelector('#' + key);\n",
              "        const charts = await google.colab.kernel.invokeFunction(\n",
              "            'suggestCharts', [key], {});\n",
              "      }\n",
              "    </script>\n",
              "\n",
              "      <script>\n",
              "\n",
              "function displayQuickchartButton(domScope) {\n",
              "  let quickchartButtonEl =\n",
              "    domScope.querySelector('#df-d4df8c3d-1072-4ec4-83c7-c6638533ea09 button.colab-df-quickchart');\n",
              "  quickchartButtonEl.style.display =\n",
              "    google.colab.kernel.accessAllowed ? 'block' : 'none';\n",
              "}\n",
              "\n",
              "        displayQuickchartButton(document);\n",
              "      </script>\n",
              "      <style>\n",
              "    .colab-df-container {\n",
              "      display:flex;\n",
              "      flex-wrap:wrap;\n",
              "      gap: 12px;\n",
              "    }\n",
              "\n",
              "    .colab-df-convert {\n",
              "      background-color: #E8F0FE;\n",
              "      border: none;\n",
              "      border-radius: 50%;\n",
              "      cursor: pointer;\n",
              "      display: none;\n",
              "      fill: #1967D2;\n",
              "      height: 32px;\n",
              "      padding: 0 0 0 0;\n",
              "      width: 32px;\n",
              "    }\n",
              "\n",
              "    .colab-df-convert:hover {\n",
              "      background-color: #E2EBFA;\n",
              "      box-shadow: 0px 1px 2px rgba(60, 64, 67, 0.3), 0px 1px 3px 1px rgba(60, 64, 67, 0.15);\n",
              "      fill: #174EA6;\n",
              "    }\n",
              "\n",
              "    [theme=dark] .colab-df-convert {\n",
              "      background-color: #3B4455;\n",
              "      fill: #D2E3FC;\n",
              "    }\n",
              "\n",
              "    [theme=dark] .colab-df-convert:hover {\n",
              "      background-color: #434B5C;\n",
              "      box-shadow: 0px 1px 3px 1px rgba(0, 0, 0, 0.15);\n",
              "      filter: drop-shadow(0px 1px 2px rgba(0, 0, 0, 0.3));\n",
              "      fill: #FFFFFF;\n",
              "    }\n",
              "  </style>\n",
              "\n",
              "      <script>\n",
              "        const buttonEl =\n",
              "          document.querySelector('#df-1adf73b4-e5ff-4612-8969-bb0d78cd1392 button.colab-df-convert');\n",
              "        buttonEl.style.display =\n",
              "          google.colab.kernel.accessAllowed ? 'block' : 'none';\n",
              "\n",
              "        async function convertToInteractive(key) {\n",
              "          const element = document.querySelector('#df-1adf73b4-e5ff-4612-8969-bb0d78cd1392');\n",
              "          const dataTable =\n",
              "            await google.colab.kernel.invokeFunction('convertToInteractive',\n",
              "                                                     [key], {});\n",
              "          if (!dataTable) return;\n",
              "\n",
              "          const docLinkHtml = 'Like what you see? Visit the ' +\n",
              "            '<a target=\"_blank\" href=https://colab.research.google.com/notebooks/data_table.ipynb>data table notebook</a>'\n",
              "            + ' to learn more about interactive tables.';\n",
              "          element.innerHTML = '';\n",
              "          dataTable['output_type'] = 'display_data';\n",
              "          await google.colab.output.renderOutput(dataTable, element);\n",
              "          const docLink = document.createElement('div');\n",
              "          docLink.innerHTML = docLinkHtml;\n",
              "          element.appendChild(docLink);\n",
              "        }\n",
              "      </script>\n",
              "    </div>\n",
              "  </div>\n"
            ],
            "text/plain": [
              "               author_id                                               text  \\\n",
              "21   1532419410094333952  RT @right2men: @rashtrapatibhvn Please remove ...   \n",
              "186  1551350142175186944  RT @ImJohnnyDepp005: #JudiciaryMustApologize f...   \n",
              "224  1522771221208776707  RT @right2men: @rashtrapatibhvn Please remove ...   \n",
              "242   790809757397426176  RT @right2men: @rashtrapatibhvn Please remove ...   \n",
              "380            102969077  RT @right2men: @rashtrapatibhvn Please remove ...   \n",
              "\n",
              "                                        public_metrics retweeted_username  \\\n",
              "21   {'retweet_count': 21, 'reply_count': 0, 'like_...          right2men   \n",
              "186  {'retweet_count': 287, 'reply_count': 0, 'like...    ImJohnnyDepp005   \n",
              "224  {'retweet_count': 21, 'reply_count': 0, 'like_...          right2men   \n",
              "242  {'retweet_count': 21, 'reply_count': 0, 'like_...          right2men   \n",
              "380  {'retweet_count': 21, 'reply_count': 0, 'like_...          right2men   \n",
              "\n",
              "     public_metrics.retweet_count  \n",
              "21                             21  \n",
              "186                           287  \n",
              "224                            21  \n",
              "242                            21  \n",
              "380                            21  "
            ]
          },
          "execution_count": 30,
          "metadata": {},
          "output_type": "execute_result"
        }
      ],
      "source": [
        "df_CJI_authors_rting_BB_CJI_bridges.head()"
      ]
    },
    {
      "cell_type": "code",
      "execution_count": null,
      "metadata": {
        "id": "jijMirc_VUXn"
      },
      "outputs": [],
      "source": [
        "pickle.dump(df_BB_authors_rting_BB_MRA_bridges,open(path3+\"df_BB_authors_rting_BB_MRA_bridges.pickle\",\"wb\"))\n",
        "pickle.dump(df_CJI_authors_rting_BB_MRA_bridges,open(path3+\"df_CJI_authors_rting_BB_MRA_bridges.pickle\",\"wb\"))\n",
        "pickle.dump(df_MRA_authors_rting_BB_MRA_bridges,open(path3+\"df_MRA_authors_rting_BB_MRA_bridges.pickle\",\"wb\"))"
      ]
    },
    {
      "cell_type": "code",
      "execution_count": null,
      "metadata": {
        "id": "mu8a64kgVmja"
      },
      "outputs": [],
      "source": [
        "pickle.dump(df_BB_authors_rting_BB_CJI_bridges,open(path3+\"df_BB_authors_rting_BB_CJI_bridges.pickle\",\"wb\"))\n",
        "pickle.dump(df_CJI_authors_rting_BB_CJI_bridges,open(path3+\"df_CJI_authors_rting_BB_CJI_bridges.pickle\",\"wb\"))\n",
        "pickle.dump(df_MRA_authors_rting_BB_CJI_bridges,open(path3+\"df_MRA_authors_rting_BB_CJI_bridges.pickle\",\"wb\"))"
      ]
    },
    {
      "cell_type": "code",
      "execution_count": null,
      "metadata": {
        "id": "8j6MXE8sVyl-"
      },
      "outputs": [],
      "source": [
        "###################################################################\n",
        "#Again run from here. No need to run complete code for RTing users.\n",
        "###################################################################\n",
        "import pickle\n",
        "df_BB_authors_rting_BB_MRA_bridges = pickle.load(open(path3+\"df_BB_authors_rting_BB_MRA_bridges.pickle\",\"rb\"))\n",
        "df_CJI_authors_rting_BB_MRA_bridges = pickle.load(open(path3+\"df_CJI_authors_rting_BB_MRA_bridges.pickle\",\"rb\"))\n",
        "df_MRA_authors_rting_BB_MRA_bridges = pickle.load(open(path3+\"df_MRA_authors_rting_BB_MRA_bridges.pickle\",\"rb\"))\n",
        "\n",
        "df_BB_authors_rting_BB_CJI_bridges = pickle.load(open(path3+\"df_BB_authors_rting_BB_CJI_bridges.pickle\",\"rb\"))\n",
        "df_CJI_authors_rting_BB_CJI_bridges = pickle.load(open(path3+\"df_CJI_authors_rting_BB_CJI_bridges.pickle\",\"rb\"))\n",
        "df_MRA_authors_rting_BB_CJI_bridges = pickle.load(open(path3+\"df_MRA_authors_rting_BB_CJI_bridges.pickle\",\"rb\"))\n",
        "\n",
        "#Get unique authors RTing bridges\n",
        "sa = set(df_BB_authors_rting_BB_MRA_bridges['author_id'].unique())\n",
        "sb = sa.union(set(df_CJI_authors_rting_BB_MRA_bridges['author_id'].unique()))\n",
        "sc = sb.union(set(df_MRA_authors_rting_BB_MRA_bridges['author_id'].unique()))\n",
        "sd = sc.union(set(df_BB_authors_rting_BB_CJI_bridges['author_id'].unique()))\n",
        "se = sd.union(set(df_CJI_authors_rting_BB_CJI_bridges['author_id'].unique()))\n",
        "sf = se.union(set(df_MRA_authors_rting_BB_CJI_bridges['author_id'].unique()))\n",
        "\n",
        "s = s1.union(s2)\n",
        "#Find how many of them have ID information in BB data\n",
        "#len(sf.intersection(set(id2name.keys())))\n",
        "print(\"Number of RTing authors present in following data:\")\n",
        "len(sf.intersection(s))"
      ]
    },
    {
      "cell_type": "code",
      "execution_count": null,
      "metadata": {
        "id": "mgmNle5vXuCd"
      },
      "outputs": [],
      "source": [
        "def reduce_columns(df):\n",
        "  return df[['author_id','text','retweeted_username']]\n",
        "#Get reduced dfs for authors retweeting bridges\n",
        "df_BB_authors_rting_BB_MRA_bridges = reduce_columns(df_BB_authors_rting_BB_MRA_bridges)\n",
        "df_CJI_authors_rting_BB_MRA_bridges = reduce_columns(df_CJI_authors_rting_BB_MRA_bridges)\n",
        "df_MRA_authors_rting_BB_MRA_bridges = reduce_columns(df_MRA_authors_rting_BB_MRA_bridges)\n",
        "\n",
        "df_BB_authors_rting_BB_CJI_bridges = reduce_columns(df_BB_authors_rting_BB_CJI_bridges)\n",
        "df_CJI_authors_rting_BB_CJI_bridges = reduce_columns(df_CJI_authors_rting_BB_CJI_bridges)\n",
        "df_MRA_authors_rting_BB_CJI_bridges = reduce_columns(df_MRA_authors_rting_BB_CJI_bridges)\n",
        "\n",
        "df_authors_rting_BB_MRA_bridges = pd.concat([df_BB_authors_rting_BB_MRA_bridges,df_CJI_authors_rting_BB_MRA_bridges,df_MRA_authors_rting_BB_MRA_bridges],axis=0)\n",
        "df_authors_rting_BB_CJI_bridges = pd.concat([df_BB_authors_rting_BB_CJI_bridges,df_CJI_authors_rting_BB_CJI_bridges,df_MRA_authors_rting_BB_CJI_bridges],axis=0)\n"
      ]
    },
    {
      "cell_type": "code",
      "execution_count": null,
      "metadata": {
        "id": "0FN0aRg53ctM"
      },
      "outputs": [],
      "source": [
        "#AGAIN, NO NEED! START FROM HERE FOR RTING USER DETAILS\n",
        "pickle.dump(df_authors_rting_BB_MRA_bridges,open(path3+\"df_authors_rting_BB_MRA_bridges.pickle\",\"wb\"))\n",
        "pickle.dump(df_authors_rting_BB_CJI_bridges,open(path3+\"df_authors_rting_BB_CJI_bridges.pickle\",\"wb\"))"
      ]
    },
    {
      "cell_type": "code",
      "execution_count": null,
      "metadata": {
        "id": "wib0UV4efAjL"
      },
      "outputs": [],
      "source": [
        "'''\n",
        "bridge_rted_BB_tweeters = list(df_BB.loc[df_BB['author_id'].isin(list(df_common['author_id'].unique()))]['retweeted_username'].unique())  #RTed users in BB rted by bridges\n",
        "bridge_rted_CJI_tweeters = list(df_BB.loc[df_BB['author_id'].isin(list(df_common['author_id'].unique()))]['retweeted_username'].unique())  #RTed users in CJI rted by bridges\n",
        "bridge_rted_MRA_tweeters = list(df_BB.loc[df_BB['author_id'].isin(list(df_common['author_id'].unique()))]['retweeted_username'].unique())  #RTed users in MRA rted by bridges\n",
        "'''"
      ]
    },
    {
      "cell_type": "markdown",
      "metadata": {
        "id": "0dptqw4JDyt3"
      },
      "source": [
        "## JOIN RTING AND RTED DETAILS AND GET COMBINED BRIDGE NETWORK INFO"
      ]
    },
    {
      "cell_type": "code",
      "execution_count": null,
      "metadata": {
        "id": "liUjcHjpD8AP"
      },
      "outputs": [],
      "source": [
        "import pickle\n",
        "#Get RTed user network neighborhood\n",
        "df_BB_MRA_bridges = pickle.load(open(path3+\"df_BB_MRA_bridges.pickle\",\"rb\"))\n",
        "df_BB_CJI_bridges = pickle.load(open(path3+\"df_BB_CJI_bridges.pickle\",\"rb\"))\n",
        "#Get RTing user network neighborhood\n",
        "df_authors_rting_BB_MRA_bridges = pickle.load(open(path3+\"df_authors_rting_BB_MRA_bridges.pickle\",\"rb\"))\n",
        "df_authors_rting_BB_CJI_bridges = pickle.load(open(path3+\"df_authors_rting_BB_CJI_bridges.pickle\",\"rb\"))"
      ]
    },
    {
      "cell_type": "code",
      "execution_count": null,
      "metadata": {
        "colab": {
          "base_uri": "https://localhost:8080/"
        },
        "id": "ONNqRSG8EqKN",
        "outputId": "b183758d-3870-47f3-a6f6-0e95a2a0fc29"
      },
      "outputs": [
        {
          "output_type": "execute_result",
          "data": {
            "text/plain": [
              "41"
            ]
          },
          "metadata": {},
          "execution_count": 3
        }
      ],
      "source": [
        "#BB-MRA Neighborhood\n",
        "bb_mra_nn = df_BB_MRA_bridges.merge(df_authors_rting_BB_MRA_bridges,left_on='author.username',right_on='retweeted_username')\n",
        "#BB-CJI Neighborhood\n",
        "bb_cji_nn = df_BB_CJI_bridges.merge(df_authors_rting_BB_CJI_bridges,left_on='author.username',right_on='retweeted_username')\n",
        "bb_cji_nn['author.username'].nunique()"
      ]
    },
    {
      "cell_type": "code",
      "execution_count": null,
      "metadata": {
        "id": "V5ho4kmTwuds"
      },
      "outputs": [],
      "source": [
        "#Here we get the list of parties for each bridge's followings\n",
        "\n",
        "import pandas as pd\n",
        "path2 = 'drive/My Drive/MSR/ACM COMPASS 2023/'\n",
        "df_pol = pd.read_excel(path2+\"politicians.xlsx\")\n",
        "#df_fol.drop_duplicates(inplace=True)\n",
        "id2party = dict(zip(df_pol.id_str, df_pol.party))\n",
        "name2party = dict(zip(df_pol.username, df_pol.party))\n",
        "'''\n",
        "def get_party(user,arg='name'):\n",
        "  if arg == 'name':\n",
        "    try:\n",
        "      party = list(df_pol.loc[df_pol['username']==user].party)[0]\n",
        "    except:\n",
        "      party = None\n",
        "  elif arg == 'id':\n",
        "    try:\n",
        "      party = list(df_pol.loc[df_pol['id_str']==user].party)[0]\n",
        "    except:\n",
        "      party = None\n",
        "\n",
        "  return party\n",
        "'''\n",
        "import pandas as pd\n",
        "#Get user id to following dfs\n",
        "def get_user_following_df(rting_bridge_following_CJI_MRA):\n",
        "  userid_l = []\n",
        "  following_name_l = []\n",
        "  following_id_l = []\n",
        "  c=0\n",
        "  for key in rting_bridge_following_CJI_MRA.keys():\n",
        "    try:\n",
        "      #rting_bridge_following_CJI_MRA[key].columns)\n",
        "      following_name_l.append(list(rting_bridge_following_CJI_MRA[key]['username'].unique()))\n",
        "      following_id_l.append(list(rting_bridge_following_CJI_MRA[key]['id'].unique()))\n",
        "      userid_l.append(key)\n",
        "      c+=1\n",
        "      print(c)\n",
        "    except:\n",
        "      continue\n",
        "  df_userid_following = pd.DataFrame()\n",
        "  df_userid_following['user']=userid_l\n",
        "  df_userid_following['following_name'] = following_name_l\n",
        "  df_userid_following['following_id'] = following_id_l\n",
        "\n",
        "  return df_userid_following\n",
        "\n",
        "\n",
        "df_fol1 = get_user_following_df(rting_bridge_following_CJI_MRA)\n",
        "df_fol2 = get_user_following_df(rtd_bridge_following_CJI_MRA)\n",
        "\n",
        "df_fol = pd.concat([df_fol1,df_fol2],axis=0)\n",
        "print(df_fol.head())\n",
        "\n",
        "#Get the parties for each list of followings in the df. Returns a list of parties as well.\n",
        "def get_following_parties(l):\n",
        "  #party_l = [get_party(id) for id in l]\n",
        "  #print(type(l[0]))\n",
        "  party_l = []\n",
        "  for id in l:\n",
        "    if id in name2party.keys():\n",
        "      party_l.append(str(name2party[id]))\n",
        "  return party_l\n",
        "\n",
        "df_fol[\"party_list\"] = df_fol[\"following_name\"].apply(lambda x: get_following_parties(x))\n"
      ]
    },
    {
      "cell_type": "code",
      "execution_count": null,
      "metadata": {
        "id": "lWn-hycBTDde"
      },
      "outputs": [],
      "source": [
        "bjp_alliance = set(['bjp','npp','ajsup','aiadmk','ainrc','agp','hspdp','ham','ipft','jjp','ljp','mgp','npf','nda','ndpp','ss','skm','udp','uppl',\n",
        "'bdjs','gnlf','hlp','ijk','imkmk','jss','jsp','kkc','np','pjp','pnk','pt','rljd','rljp','rsp','sad','vhp','rpi'])\n",
        "#bjp_alliance = set(['bjp','vhp'])"
      ]
    },
    {
      "cell_type": "code",
      "execution_count": null,
      "metadata": {
        "id": "WMDFlMmhWi35"
      },
      "outputs": [],
      "source": [
        "df_fol.reset_index(inplace=True)\n",
        "df_fol['user'] = df_fol['user'].astype(int)\n",
        "\n",
        "#type(df_fol['user'][0])"
      ]
    },
    {
      "cell_type": "code",
      "execution_count": null,
      "metadata": {
        "id": "Vv5uys8GmbMF"
      },
      "outputs": [],
      "source": [
        "import pickle\n",
        "id2name = pickle.load(open(path3+\"id2name_BB.pickle\",\"rb\"))\n",
        "name2id = dict()\n",
        "for key in id2name.keys():\n",
        "  name2id[id2name[key]] = str(key)\n",
        "\n",
        "#Given a list of parties (for followings of user) and bjp alliance list, find the number of parties in the alliance\n",
        "def get_polarity(following_polarity_list,bjp_alliance):\n",
        "  bjp_fol = 0\n",
        "  opp_fol = 0\n",
        "  #print(following_polarity_list)\n",
        "  #print(bjp_alliance)\n",
        "  for item in following_polarity_list:\n",
        "    if item.lower() in bjp_alliance:\n",
        "      bjp_fol+=1\n",
        "    else:\n",
        "      opp_fol+=1\n",
        "  return (bjp_fol,opp_fol)\n",
        "\n",
        "\n",
        "def get_majority_following_polarity(user):\n",
        "  #If username exists in Nivaduck, directly take the party (NEEDS TO BE REMOVED)\n",
        "  #if str(user) in name2party.keys():\n",
        "  #  party_list = [name2party[str(user)]]\n",
        "  #If user ID exists in Nivaduck, directly take the party (NEEDS TO BE REMOVED)\n",
        "  #elif int(user) in id2party.keys():\n",
        "  #  party_list = [id2party[int(user)]]\n",
        "  #Else, get the parties of the followings\n",
        "  #else:\n",
        "  #Since df_fol could not be deduplicated due to presence of lists in its entries, we used this method of selecting the first entry\n",
        "  try:\n",
        "    party_list = list(df_fol.loc[df_fol['user']==int(user)]['party_list'])[0]\n",
        "  except:\n",
        "    return (0,0),'X'\n",
        "\n",
        "  #print(party_list)\n",
        "  #print(bjp_alliance)\n",
        "  if len(party_list)>0:\n",
        "    (bjp_fol,opp_fol) = get_polarity(party_list,bjp_alliance)\n",
        "  else:\n",
        "    return (0,0),'X'\n",
        "  if bjp_fol>opp_fol:\n",
        "    return (bjp_fol,opp_fol),\"R\"\n",
        "  elif opp_fol>bjp_fol:\n",
        "    return (bjp_fol,opp_fol),\"L\"\n",
        "  else:\n",
        "    return (bjp_fol,opp_fol),\"X\"\n",
        "\n",
        "\n",
        "#For a bridge node, get all polarity triplets, i.e., for all rting and rted nodes of that bridge.\n",
        "def get_polarity_triplet(df,node):\n",
        "  #HERE, BASICALLY INSTEAD OF RETURNING THE LIST OF ALL TRIPLETS FOR A BRIDGE, YOU NEED TO RETURN ONE\n",
        "  #TRIPLET, WHICH GIVES THE POLARITY OF THE ENTIRE RTING AND RTED NEIGHORHOOD FOR THAT BRIDGE BASED ON\n",
        "  #THE TOTAL BJP AND OPP FOL COUNT OF THE NEIGHBORHOOD\n",
        "\n",
        "  #Find the df part that contains that bridge's info\n",
        "  df = df.drop_duplicates()\n",
        "  df = df.loc[df['author_id_x']==node].reset_index()\n",
        "  #Get the polarity of the bridge (either through itself or through its followings)\n",
        "  _,bridge_polarity = get_majority_following_polarity(node)\n",
        "  #All triplets for this bridge\n",
        "  #triplets_for_this_bridge = []\n",
        "\n",
        "  bjp_fol_rting=0\n",
        "  opp_fol_rting=0\n",
        "  bjp_fol_rted=0\n",
        "  opp_fol_rted=0\n",
        "\n",
        "  #For each row in that bridge's df\n",
        "  for i in range(0,df.shape[0]):\n",
        "    #Get the rting and rted user\n",
        "    rting_user = df['author_id_y'][i]\n",
        "    rted_user = df['retweeted_username_x'][i]\n",
        "    #Get the rting and rted user polarities\n",
        "    if rting_user!=None:\n",
        "      (bjp_fol,opp_fol),rting_polarity = get_majority_following_polarity(rting_user)\n",
        "      bjp_fol_rting+=bjp_fol\n",
        "      opp_fol_rting+=opp_fol\n",
        "    if rted_user!=None:\n",
        "      if rted_user in name2id.keys():\n",
        "        (bjp_fol,opp_fol),rted_polarity = get_majority_following_polarity(name2id[rted_user])\n",
        "        bjp_fol_rted+=bjp_fol\n",
        "        opp_fol_rted+=opp_fol\n",
        "      else:\n",
        "        #print(\"Could not find user ID.\")\n",
        "        continue\n",
        "\n",
        "  if bjp_fol_rting>opp_fol_rting:\n",
        "    LHS_polarity='R'\n",
        "  elif bjp_fol_rting<opp_fol_rting:\n",
        "    LHS_polarity='L'\n",
        "  else:\n",
        "    LHS_polarity='X'\n",
        "\n",
        "  if bjp_fol_rted>opp_fol_rted:\n",
        "    RHS_polarity='R'\n",
        "  elif bjp_fol_rted<opp_fol_rted:\n",
        "    RHS_polarity='L'\n",
        "  else:\n",
        "    RHS_polarity='X'\n",
        "\n",
        "  triplet = LHS_polarity+bridge_polarity+RHS_polarity\n",
        "    #Append the rting, bridge, and rted polarity in the final list and return it\n",
        "    #try:\n",
        "    #  triplets_for_this_bridge.append(rting_polarity+bridge_polarity+rted_polarity)\n",
        "    #except:\n",
        "    #  triplets_for_this_bridge.append('XXX')\n",
        "  #return (bjp_fol,opp_fol),triplets_for_this_bridge\n",
        "  return triplet\n",
        "#Method to get RRR, RLR, etc. triplets and their percentage\n",
        "def get_nn_polarity_triplets_dict(df,field):\n",
        "  triplet_dict = dict()\n",
        "  #c=0\n",
        "  #List of all bjp_fol and opp_fol counts for each bridge, to be used for significance testing\n",
        "  significance_test_list = []\n",
        "  for bridge in df[field].unique():\n",
        "    print(\"Finding triplets for bridge:\"+bridge)\n",
        "    #(bjp_fol,opp_fol),triplets = get_polarity_triplet(df,bridge)\n",
        "    triplet = get_polarity_triplet(df,bridge)\n",
        "    #if bjp_fol!=-1 and opp_fol!=-1:\n",
        "    #  significance_test_list.append((bjp_fol,opp_fol))\n",
        "\n",
        "    #rting_polarity = get_polarity (df,bridge.rting)\n",
        "    #rted_polarity = get_polarity(df,bridhe.rted)\n",
        "\n",
        "    #for triplet in triplets:\n",
        "    if triplet not in triplet_dict.keys():\n",
        "      triplet_dict[triplet]=1\n",
        "    else:\n",
        "      triplet_dict[triplet]+=1\n",
        "\n",
        "    #break\n",
        "    #c+=1\n",
        "  #print(triplet_dict)\n",
        "    #if(c>5):\n",
        "    #  break\n",
        "  #print(significance_test_list)\n",
        "  return triplet_dict\n",
        "\n",
        "triplet_dict = get_nn_polarity_triplets_dict(bb_mra_nn,\"author_id_x\")\n",
        "#triplet_dict = get_nn_polarity_triplets_dict(bb_cji_nn,\"author_id_x\")\n",
        "\n",
        "print(triplet_dict)\n",
        "\n"
      ]
    },
    {
      "cell_type": "markdown",
      "metadata": {
        "id": "ngFZskjTfMCM"
      },
      "source": []
    },
    {
      "cell_type": "code",
      "source": [
        "triplet_dict = pickle.load(open(path3+'triplet_dict_bb_cji_v2.pickle','rb'))\n",
        "triplet_dict = pickle.load(open(path3+'triplet_dict_bb_mra.pickle_v2','rb'))\n",
        "#Count of bridges with left wing and right wing neighborhood\n",
        "left = 0\n",
        "right = 0\n",
        "for key in triplet_dict:\n",
        "  if key[0]=='L' or key[2]=='L':\n",
        "    left+=triplet_dict[key]\n",
        "  elif key[0]=='R' or key[2]=='R':\n",
        "    right+=triplet_dict[key]\n",
        "\n",
        "print(\"Left: \"+str(left))\n",
        "print(\"Right: \"+str(right))"
      ],
      "metadata": {
        "colab": {
          "base_uri": "https://localhost:8080/"
        },
        "id": "YFXOoTr5lB8H",
        "outputId": "86dcfebb-9263-4cbe-d55b-4f1a2819a244"
      },
      "execution_count": null,
      "outputs": [
        {
          "output_type": "stream",
          "name": "stdout",
          "text": [
            "Left: 77\n",
            "Right: 45\n"
          ]
        }
      ]
    },
    {
      "cell_type": "code",
      "source": [
        "for key in triplet_dict"
      ],
      "metadata": {
        "colab": {
          "base_uri": "https://localhost:8080/"
        },
        "id": "rZD7agI4tqvt",
        "outputId": "d7709c31-e9fa-40da-9ad1-d8c3bbe63f9b"
      },
      "execution_count": null,
      "outputs": [
        {
          "output_type": "execute_result",
          "data": {
            "text/plain": [
              "{'LXX': 3,\n",
              " 'RLL': 10,\n",
              " 'RRX': 8,\n",
              " 'LXL': 9,\n",
              " 'XXX': 3,\n",
              " 'RRL': 24,\n",
              " 'RXR': 6,\n",
              " 'RLR': 11,\n",
              " 'XXR': 1,\n",
              " 'LLR': 3,\n",
              " 'LRL': 4,\n",
              " 'LLL': 7,\n",
              " 'RXX': 2,\n",
              " 'RXL': 9,\n",
              " 'XRR': 1,\n",
              " 'RRR': 10,\n",
              " 'XRX': 1,\n",
              " 'LXR': 2,\n",
              " 'RLX': 6,\n",
              " 'LRR': 3,\n",
              " 'LLX': 2,\n",
              " 'LRX': 1}"
            ]
          },
          "metadata": {},
          "execution_count": 26
        }
      ]
    },
    {
      "cell_type": "code",
      "execution_count": null,
      "metadata": {
        "id": "c_hGwCasevYR"
      },
      "outputs": [],
      "source": [
        "#pickle.dump(triplet_dict,open(path3+'triplet_dict_bb_mra.pickle_v2','wb'))\n",
        "#pickle.dump(triplet_dict,open(path3+'triplet_dict_bb_cji_v2.pickle','wb'))"
      ]
    },
    {
      "cell_type": "code",
      "execution_count": null,
      "metadata": {
        "colab": {
          "base_uri": "https://localhost:8080/",
          "height": 49
        },
        "id": "hGpXkD7BXeiT",
        "outputId": "0b329fa4-a648-424a-fff5-bc0e2a63240a"
      },
      "outputs": [
        {
          "data": {
            "text/html": [
              "\n",
              "\n",
              "  <div id=\"df-511d6c31-9f27-434e-8c0d-2f3dbf8c8e82\">\n",
              "    <div class=\"colab-df-container\">\n",
              "      <div>\n",
              "<style scoped>\n",
              "    .dataframe tbody tr th:only-of-type {\n",
              "        vertical-align: middle;\n",
              "    }\n",
              "\n",
              "    .dataframe tbody tr th {\n",
              "        vertical-align: top;\n",
              "    }\n",
              "\n",
              "    .dataframe thead th {\n",
              "        text-align: right;\n",
              "    }\n",
              "</style>\n",
              "<table border=\"1\" class=\"dataframe\">\n",
              "  <thead>\n",
              "    <tr style=\"text-align: right;\">\n",
              "      <th></th>\n",
              "      <th>index</th>\n",
              "      <th>user</th>\n",
              "      <th>following_name</th>\n",
              "      <th>following_id</th>\n",
              "      <th>party_list</th>\n",
              "    </tr>\n",
              "  </thead>\n",
              "  <tbody>\n",
              "  </tbody>\n",
              "</table>\n",
              "</div>\n",
              "      <button class=\"colab-df-convert\" onclick=\"convertToInteractive('df-511d6c31-9f27-434e-8c0d-2f3dbf8c8e82')\"\n",
              "              title=\"Convert this dataframe to an interactive table.\"\n",
              "              style=\"display:none;\">\n",
              "\n",
              "  <svg xmlns=\"http://www.w3.org/2000/svg\" height=\"24px\"viewBox=\"0 0 24 24\"\n",
              "       width=\"24px\">\n",
              "    <path d=\"M0 0h24v24H0V0z\" fill=\"none\"/>\n",
              "    <path d=\"M18.56 5.44l.94 2.06.94-2.06 2.06-.94-2.06-.94-.94-2.06-.94 2.06-2.06.94zm-11 1L8.5 8.5l.94-2.06 2.06-.94-2.06-.94L8.5 2.5l-.94 2.06-2.06.94zm10 10l.94 2.06.94-2.06 2.06-.94-2.06-.94-.94-2.06-.94 2.06-2.06.94z\"/><path d=\"M17.41 7.96l-1.37-1.37c-.4-.4-.92-.59-1.43-.59-.52 0-1.04.2-1.43.59L10.3 9.45l-7.72 7.72c-.78.78-.78 2.05 0 2.83L4 21.41c.39.39.9.59 1.41.59.51 0 1.02-.2 1.41-.59l7.78-7.78 2.81-2.81c.8-.78.8-2.07 0-2.86zM5.41 20L4 18.59l7.72-7.72 1.47 1.35L5.41 20z\"/>\n",
              "  </svg>\n",
              "      </button>\n",
              "\n",
              "\n",
              "\n",
              "    <div id=\"df-b5908f2b-ef8c-4794-99ae-7333cf881a62\">\n",
              "      <button class=\"colab-df-quickchart\" onclick=\"quickchart('df-b5908f2b-ef8c-4794-99ae-7333cf881a62')\"\n",
              "              title=\"Suggest charts.\"\n",
              "              style=\"display:none;\">\n",
              "\n",
              "<svg xmlns=\"http://www.w3.org/2000/svg\" height=\"24px\"viewBox=\"0 0 24 24\"\n",
              "     width=\"24px\">\n",
              "    <g>\n",
              "        <path d=\"M19 3H5c-1.1 0-2 .9-2 2v14c0 1.1.9 2 2 2h14c1.1 0 2-.9 2-2V5c0-1.1-.9-2-2-2zM9 17H7v-7h2v7zm4 0h-2V7h2v10zm4 0h-2v-4h2v4z\"/>\n",
              "    </g>\n",
              "</svg>\n",
              "      </button>\n",
              "    </div>\n",
              "\n",
              "<style>\n",
              "  .colab-df-quickchart {\n",
              "    background-color: #E8F0FE;\n",
              "    border: none;\n",
              "    border-radius: 50%;\n",
              "    cursor: pointer;\n",
              "    display: none;\n",
              "    fill: #1967D2;\n",
              "    height: 32px;\n",
              "    padding: 0 0 0 0;\n",
              "    width: 32px;\n",
              "  }\n",
              "\n",
              "  .colab-df-quickchart:hover {\n",
              "    background-color: #E2EBFA;\n",
              "    box-shadow: 0px 1px 2px rgba(60, 64, 67, 0.3), 0px 1px 3px 1px rgba(60, 64, 67, 0.15);\n",
              "    fill: #174EA6;\n",
              "  }\n",
              "\n",
              "  [theme=dark] .colab-df-quickchart {\n",
              "    background-color: #3B4455;\n",
              "    fill: #D2E3FC;\n",
              "  }\n",
              "\n",
              "  [theme=dark] .colab-df-quickchart:hover {\n",
              "    background-color: #434B5C;\n",
              "    box-shadow: 0px 1px 3px 1px rgba(0, 0, 0, 0.15);\n",
              "    filter: drop-shadow(0px 1px 2px rgba(0, 0, 0, 0.3));\n",
              "    fill: #FFFFFF;\n",
              "  }\n",
              "</style>\n",
              "\n",
              "    <script>\n",
              "      async function quickchart(key) {\n",
              "        const containerElement = document.querySelector('#' + key);\n",
              "        const charts = await google.colab.kernel.invokeFunction(\n",
              "            'suggestCharts', [key], {});\n",
              "      }\n",
              "    </script>\n",
              "\n",
              "      <script>\n",
              "\n",
              "function displayQuickchartButton(domScope) {\n",
              "  let quickchartButtonEl =\n",
              "    domScope.querySelector('#df-b5908f2b-ef8c-4794-99ae-7333cf881a62 button.colab-df-quickchart');\n",
              "  quickchartButtonEl.style.display =\n",
              "    google.colab.kernel.accessAllowed ? 'block' : 'none';\n",
              "}\n",
              "\n",
              "        displayQuickchartButton(document);\n",
              "      </script>\n",
              "      <style>\n",
              "    .colab-df-container {\n",
              "      display:flex;\n",
              "      flex-wrap:wrap;\n",
              "      gap: 12px;\n",
              "    }\n",
              "\n",
              "    .colab-df-convert {\n",
              "      background-color: #E8F0FE;\n",
              "      border: none;\n",
              "      border-radius: 50%;\n",
              "      cursor: pointer;\n",
              "      display: none;\n",
              "      fill: #1967D2;\n",
              "      height: 32px;\n",
              "      padding: 0 0 0 0;\n",
              "      width: 32px;\n",
              "    }\n",
              "\n",
              "    .colab-df-convert:hover {\n",
              "      background-color: #E2EBFA;\n",
              "      box-shadow: 0px 1px 2px rgba(60, 64, 67, 0.3), 0px 1px 3px 1px rgba(60, 64, 67, 0.15);\n",
              "      fill: #174EA6;\n",
              "    }\n",
              "\n",
              "    [theme=dark] .colab-df-convert {\n",
              "      background-color: #3B4455;\n",
              "      fill: #D2E3FC;\n",
              "    }\n",
              "\n",
              "    [theme=dark] .colab-df-convert:hover {\n",
              "      background-color: #434B5C;\n",
              "      box-shadow: 0px 1px 3px 1px rgba(0, 0, 0, 0.15);\n",
              "      filter: drop-shadow(0px 1px 2px rgba(0, 0, 0, 0.3));\n",
              "      fill: #FFFFFF;\n",
              "    }\n",
              "  </style>\n",
              "\n",
              "      <script>\n",
              "        const buttonEl =\n",
              "          document.querySelector('#df-511d6c31-9f27-434e-8c0d-2f3dbf8c8e82 button.colab-df-convert');\n",
              "        buttonEl.style.display =\n",
              "          google.colab.kernel.accessAllowed ? 'block' : 'none';\n",
              "\n",
              "        async function convertToInteractive(key) {\n",
              "          const element = document.querySelector('#df-511d6c31-9f27-434e-8c0d-2f3dbf8c8e82');\n",
              "          const dataTable =\n",
              "            await google.colab.kernel.invokeFunction('convertToInteractive',\n",
              "                                                     [key], {});\n",
              "          if (!dataTable) return;\n",
              "\n",
              "          const docLinkHtml = 'Like what you see? Visit the ' +\n",
              "            '<a target=\"_blank\" href=https://colab.research.google.com/notebooks/data_table.ipynb>data table notebook</a>'\n",
              "            + ' to learn more about interactive tables.';\n",
              "          element.innerHTML = '';\n",
              "          dataTable['output_type'] = 'display_data';\n",
              "          await google.colab.output.renderOutput(dataTable, element);\n",
              "          const docLink = document.createElement('div');\n",
              "          docLink.innerHTML = docLinkHtml;\n",
              "          element.appendChild(docLink);\n",
              "        }\n",
              "      </script>\n",
              "    </div>\n",
              "  </div>\n"
            ],
            "text/plain": [
              "Empty DataFrame\n",
              "Columns: [index, user, following_name, following_id, party_list]\n",
              "Index: []"
            ]
          },
          "execution_count": 57,
          "metadata": {},
          "output_type": "execute_result"
        }
      ],
      "source": [
        "df_fol.loc[df_fol['user']==190607413]"
      ]
    },
    {
      "cell_type": "code",
      "execution_count": null,
      "metadata": {
        "colab": {
          "base_uri": "https://localhost:8080/",
          "height": 36
        },
        "id": "Bp9J9gaoHbWM",
        "outputId": "cb461022-a2c0-4f3d-e71c-251b90378f59"
      },
      "outputs": [
        {
          "data": {
            "application/vnd.google.colaboratory.intrinsic+json": {
              "type": "string"
            },
            "text/plain": [
              "'AAP'"
            ]
          },
          "execution_count": 21,
          "metadata": {},
          "output_type": "execute_result"
        }
      ],
      "source": [
        "list(df_pol.loc[df_pol['username']=='ArvindKejriwal'].party)[0]"
      ]
    },
    {
      "cell_type": "markdown",
      "source": [
        "## Get BB-MRA/BB-CJI RT Network (to be used for IM)"
      ],
      "metadata": {
        "id": "S7E54orK9CwU"
      }
    },
    {
      "cell_type": "code",
      "source": [
        "#############################################\n",
        "#NO NEED TO RUN PREVIOUS CODE. RUN FROM HERE.\n",
        "#HERE WE GET BRIDGE TWEETS AND NAMES AS WELL.\n",
        "#############################################\n",
        "#pickle.dump(df_BB_MRA_bridges,open(path2+\"BB_MRA_bridges.pickle\",\"wb\"))\n",
        "#pickle.dump(df_BB_CJI_bridges,open(path2+\"BB_CJI_bridges.pickle\",\"wb\"))\n",
        "import pickle\n",
        "\n",
        "df_BB_MRA_bridges = pickle.load(open(path3+\"BB_MRA_bridges.pickle\",\"rb\"))\n",
        "df_BB_CJI_bridges = pickle.load(open(path3+\"BB_CJI_bridges.pickle\",\"rb\"))"
      ],
      "metadata": {
        "id": "-ydYlicVlcOf"
      },
      "execution_count": null,
      "outputs": []
    },
    {
      "cell_type": "code",
      "source": [
        "df_cji = pickle.load(open(path+\"MRA_CJI_Core_Data/pure_cji_user_tweets.pickle\",\"rb\"))\n",
        "df_cji = df_cji[['author_id','text','public_metrics']]"
      ],
      "metadata": {
        "id": "ekT0Vl3PHqYg"
      },
      "execution_count": null,
      "outputs": []
    },
    {
      "cell_type": "code",
      "source": [
        "path2 = 'drive/My Drive/MSR/icwsm_datasets/'#/Prop_ICWSM/'\n",
        "import pandas as pd\n",
        "df_BB = pd.read_csv(path2+\"bollywood.csv\",low_memory=False)\n"
      ],
      "metadata": {
        "id": "wQcSask1H7mt"
      },
      "execution_count": null,
      "outputs": []
    },
    {
      "cell_type": "code",
      "source": [
        "#Get the entire network of BB, MRA, and CJI on which influence of bridges is to be calculated\n",
        "df_BB = df_BB[['author_id','text']]\n",
        "#df_mra = df_mra[['author_id','text']]\n",
        "df_cji = df_cji[['author_id','text']]\n",
        "\n",
        "df_BB['author_id'] = df_BB['author_id'].astype(str)\n",
        "#df_mra['author_id'] = df_mra['author_id'].astype(str)\n",
        "df_cji['author_id'] = df_cji['author_id'].astype(str)\n",
        "\n",
        "#df_BB_MRA = pd.concat([df_BB,df_mra],axis=0).reset_index()\n",
        "df_BB_CJI = pd.concat([df_BB,df_cji],axis=0).reset_index()"
      ],
      "metadata": {
        "id": "34yYoaDk-2pK"
      },
      "execution_count": null,
      "outputs": []
    },
    {
      "cell_type": "code",
      "source": [
        "#METHOD TO GET RETWEET NETWORK FROM ANY DF\n",
        "def get_RTed_account(tweet):\n",
        "  #print(\"#\")\n",
        "  #print(tweet)\n",
        "  if tweet[0:2] == \"RT\":\n",
        "    tweet_l = tweet.split(': ')\n",
        "    #try:\n",
        "    #print(tweet_l)\n",
        "    rted_username = tweet_l[0].split(' ')[1].replace('@','')\n",
        "    #except:\n",
        "    #  print(tweet_l[0])\n",
        "    #print(rted_username)\n",
        "    return rted_username\n",
        "\n",
        "def get_network(df):\n",
        "  username_l = list(df[\"author_id\"].unique())\n",
        "  #Get the retweeted users\n",
        "  if \"text\" in df.columns:\n",
        "    df[\"retweeted_user\"] = df[\"text\"].apply(lambda x: get_RTed_account(x))\n",
        "\n",
        "  #Get all retweet edges using Soham's data (A,B would mean A retweets B)\n",
        "  #edges = []\n",
        "  df['edges'] = list(zip(df[\"author_id\"], df[\"retweeted_user\"]))\n",
        "  #Unique edges (unweighted graph)\n",
        "  edges = df['edges']\n",
        "\n",
        "  #Get only the within group edges for network analysis\n",
        "  #relevant_edges = []\n",
        "  #for edge in edges:\n",
        "  #  if edge[0] in username_l and edge[1] in username_l:\n",
        "  #    relevant_edges.append(edge)\n",
        "  #edges = relevant_edges\n",
        "\n",
        "  #Weighted graph if needed\n",
        "  #weight_dict = get_edges_with_weights(df['edges'].to_list())\n",
        "  #dump_csv_for_community_detection(weight_dict)\n",
        "\n",
        "  #Remove duplicate edges for unweighted graph\n",
        "  edges = set(edges)\n",
        "  #print(\"Number of unique edges: \"+str(len(edges)))\n",
        "  #print(\"\\n\")\n",
        "  if len(edges) == 0:\n",
        "    print(\"No retweet edges found!\")\n",
        "    return None\n",
        "  #Get the RT network between core users (one edge only between a pair of users even if there are multiple RTs between them)\n",
        "  # generate generic network graph instance\n",
        "  #nx_graph = nx.DiGraph()\n",
        "  #for edge in edges:#[0:1000]:\n",
        "  #  #print(edges_dict[edge])\n",
        "  #  try:\n",
        "  #    nx_graph.add_edge(edge[0],edge[1])\n",
        "  #  except:\n",
        "  #    continue\n",
        "  return edges\n",
        "\n",
        "\n",
        "#Get the retweet network (list of edges) for BB-MRA and BB-CJI dfs\n",
        "\n",
        "#rt_nw_BB_MRA = get_network(df_BB_MRA)\n",
        "rt_nw_BB_CJI = get_network(df_BB_CJI)"
      ],
      "metadata": {
        "id": "QMVb6BWr9CHc"
      },
      "execution_count": null,
      "outputs": []
    },
    {
      "cell_type": "code",
      "source": [
        "pickle.dump(rt_nw_BB_MRA,open(path3+'rt_nw_BB_MRA.pickle','wb'))\n",
        "pickle.dump(rt_nw_BB_CJI,open(path3+'rt_nw_BB_CJI.pickle','wb'))"
      ],
      "metadata": {
        "id": "bOepidPLA6aw"
      },
      "execution_count": null,
      "outputs": []
    },
    {
      "cell_type": "code",
      "source": [
        "#See how many of the influential nodes are bridges (run after running IM.ipynb)\n",
        "#df_BB_MRA_bridges['author_id'] = df_BB_MRA_bridges['author_id'].astype(str)\n",
        "#bridges = list(df_BB_MRA_bridges['author_id'].unique())\n",
        "#bridges.extend(list(df_BB_MRA_bridges['author.username'].unique()))\n",
        "\n",
        "\n",
        "df_BB_CJI_bridges['author_id'] = df_BB_CJI_bridges['author_id'].astype(str)\n",
        "bridges = list(df_BB_CJI_bridges['author_id'].unique())\n",
        "bridges.extend(list(df_BB_CJI_bridges['author.username'].unique()))\n",
        "\n",
        "#seed = pickle.load(open(path3+\"seed_nodes_BB_MRA_\"+str(15)+\".pickle\",\"rb\"))\n",
        "for i in range(5,100,5):\n",
        "  try:\n",
        "    seed = pickle.load(open(path3+\"/latest_IM_data/\"+\"seed_nodes_BB_CJI_\"+str(i)+\".pickle\",\"rb\"))\n",
        "    seed = list(seed)\n",
        "    seed = set([str(i) for i in seed])\n",
        "\n",
        "    bridges = set(bridges)\n",
        "\n",
        "    #seed.intersection(bridges)\n",
        "    print(i,len(list(seed.intersection(bridges)))/len(list(seed)))\n",
        "  except:\n",
        "    continue\n",
        "\n"
      ],
      "metadata": {
        "colab": {
          "base_uri": "https://localhost:8080/"
        },
        "id": "NyuTzB9PIXpY",
        "outputId": "8df10682-7b1e-4713-eef5-b1ff76c878c6"
      },
      "execution_count": null,
      "outputs": [
        {
          "output_type": "stream",
          "name": "stdout",
          "text": [
            "5 0.0\n",
            "15 0.13333333333333333\n",
            "25 0.16\n",
            "35 0.11428571428571428\n",
            "45 0.13333333333333333\n",
            "55 0.16363636363636364\n",
            "65 0.15384615384615385\n",
            "75 0.14666666666666667\n",
            "85 0.12941176470588237\n",
            "95 0.12631578947368421\n"
          ]
        }
      ]
    },
    {
      "cell_type": "code",
      "source": [
        "bridges"
      ],
      "metadata": {
        "colab": {
          "base_uri": "https://localhost:8080/"
        },
        "id": "7oB-bI-JKEfS",
        "outputId": "a5e57526-5b65-48d6-eeff-7612eba969d1"
      },
      "execution_count": null,
      "outputs": [
        {
          "output_type": "execute_result",
          "data": {
            "text/plain": [
              "{'10869322',\n",
              " '1111309063470628864',\n",
              " '1158282766213099520',\n",
              " '1167316385938042880',\n",
              " '1208459842475528192',\n",
              " '1242397358123442176',\n",
              " '1279227682480443393',\n",
              " '1283035878546341895',\n",
              " '1301017405108387842',\n",
              " '1326895861083885568',\n",
              " '1332210533651476480',\n",
              " '1351926845470478336',\n",
              " '1353002306363559941',\n",
              " '1367685458172387333',\n",
              " '1368571124657905669',\n",
              " '1385927764146941958',\n",
              " '1394648416899145730',\n",
              " '1395237485291077635',\n",
              " '1397167550421602309',\n",
              " '1401091452956864512',\n",
              " '1401140058296487937',\n",
              " '1403226692932407299',\n",
              " '1406552911560294401',\n",
              " '140855572',\n",
              " '1410535149578584066',\n",
              " '1422330473594855425',\n",
              " '1432631797389553667',\n",
              " '1433132925504000002',\n",
              " '1436724597752156167',\n",
              " '1451136870654509059',\n",
              " '1456988586729820160',\n",
              " '1461640490411982851',\n",
              " '1465666767817101317',\n",
              " '1466468672269168641',\n",
              " '1468956347274186768',\n",
              " '1478678382296526849',\n",
              " '1483440450405289985',\n",
              " '1506298235446460416',\n",
              " '154117568',\n",
              " '156590261',\n",
              " '189890404',\n",
              " '198607238',\n",
              " '211761546',\n",
              " '2487493004',\n",
              " '295520176',\n",
              " '30019925',\n",
              " '304914420',\n",
              " '490328535',\n",
              " '73563870',\n",
              " '743082126',\n",
              " '763778092825468928',\n",
              " '771405105321025536',\n",
              " '912043843108798464',\n",
              " '917746971686920192',\n",
              " 'AjayAgr27775609',\n",
              " 'Ansh_MRA',\n",
              " 'BanarasibyBirth',\n",
              " 'Barbarik_MRA',\n",
              " 'DXTMRA',\n",
              " 'DefundFeminist',\n",
              " 'DrNMNahar',\n",
              " 'EKSBGP',\n",
              " 'FamilyMan_berl_',\n",
              " 'Garg263Garg',\n",
              " 'GobindaParida12',\n",
              " 'HarshNTeam',\n",
              " 'IArpanSaxena',\n",
              " 'IM_atulp',\n",
              " 'ImJohnnyDepp005',\n",
              " 'Levelhe87127055',\n",
              " 'Mallikarjun___1',\n",
              " 'MarriageStrike',\n",
              " 'Observethewave',\n",
              " 'OutWarrior',\n",
              " 'PrawalSrivastav',\n",
              " 'RahulKu21997170',\n",
              " 'Rajaram2424',\n",
              " 'Ravisha77935171',\n",
              " 'Satyabhav',\n",
              " 'Sharath_Rao_18',\n",
              " 'Sharma025',\n",
              " 'Try2StopME',\n",
              " 'Vijay11025',\n",
              " 'VishwaPeace',\n",
              " 'YogeshS53066395',\n",
              " 'achilles2850',\n",
              " 'ankushgupta4072',\n",
              " 'bamne_shridhar',\n",
              " 'burgerstrike',\n",
              " 'chandruthecool',\n",
              " 'facethebrutes',\n",
              " 'itachi_senpai1',\n",
              " 'janamritedu',\n",
              " 'legal_terrorism',\n",
              " 'naman4511311',\n",
              " nan,\n",
              " 'nan_swa',\n",
              " 'rahul1277',\n",
              " 'realtechroofing',\n",
              " 'right2men',\n",
              " 'rkyadavme',\n",
              " 'samca55',\n",
              " 'skb2006_',\n",
              " 'skverma_110',\n",
              " 'spartanspain96',\n",
              " 'thisissanatism',\n",
              " 'uttkarsh81',\n",
              " 'vaibhavmahe87',\n",
              " 'yogesa'}"
            ]
          },
          "metadata": {},
          "execution_count": 11
        }
      ]
    },
    {
      "cell_type": "code",
      "source": [
        "df_BB['author_id'].nunique()"
      ],
      "metadata": {
        "colab": {
          "base_uri": "https://localhost:8080/",
          "height": 176
        },
        "id": "zysv_swYx16J",
        "outputId": "45abaadc-1513-4d90-fccf-d4d666f37366"
      },
      "execution_count": null,
      "outputs": [
        {
          "output_type": "error",
          "ename": "NameError",
          "evalue": "ignored",
          "traceback": [
            "\u001b[0;31m---------------------------------------------------------------------------\u001b[0m",
            "\u001b[0;31mNameError\u001b[0m                                 Traceback (most recent call last)",
            "\u001b[0;32m<ipython-input-1-d83329bdd516>\u001b[0m in \u001b[0;36m<cell line: 1>\u001b[0;34m()\u001b[0m\n\u001b[0;32m----> 1\u001b[0;31m \u001b[0mdf_BB\u001b[0m\u001b[0;34m[\u001b[0m\u001b[0;34m'author_id'\u001b[0m\u001b[0;34m]\u001b[0m\u001b[0;34m.\u001b[0m\u001b[0mnunique\u001b[0m\u001b[0;34m(\u001b[0m\u001b[0;34m)\u001b[0m\u001b[0;34m\u001b[0m\u001b[0;34m\u001b[0m\u001b[0m\n\u001b[0m",
            "\u001b[0;31mNameError\u001b[0m: name 'df_BB' is not defined"
          ]
        }
      ]
    },
    {
      "cell_type": "code",
      "source": [
        "seed = pickle.load(open(path3+\"seed_nodes_BB_CJI_\"+str(95)+\".pickle\",\"rb\"))\n",
        "seed"
      ],
      "metadata": {
        "colab": {
          "base_uri": "https://localhost:8080/"
        },
        "id": "MUuB89fm0vKq",
        "outputId": "37b836ea-a867-4179-9b52-8c200b97a0d2"
      },
      "execution_count": null,
      "outputs": [
        {
          "output_type": "execute_result",
          "data": {
            "text/plain": [
              "{'1003843509692977152',\n",
              " '1005687262548357120',\n",
              " '1048813746024411136',\n",
              " '1084072288780238848',\n",
              " '1085544859400880128',\n",
              " '1093486206795608065',\n",
              " '1146467397827780608',\n",
              " '1180440574060445696',\n",
              " '1210810922723205120',\n",
              " '1214658974',\n",
              " '1222606118062440448',\n",
              " '1225837352074891264',\n",
              " '1227954110843904000',\n",
              " '1269627323399180288',\n",
              " '1278558357905793025',\n",
              " '1285923369313959936',\n",
              " '1286129318628929536',\n",
              " '1286789753032126465',\n",
              " '1291044587222364161',\n",
              " '1291192890937335809',\n",
              " '1292363635042336773',\n",
              " '1293495291996327936',\n",
              " '1294928401212379137',\n",
              " '1300391388744282112',\n",
              " '1300570380407418880',\n",
              " '1303216855100928000',\n",
              " '1303219762609098752',\n",
              " '1306051249008123906',\n",
              " '1307024271248560128',\n",
              " '1313710745217974272',\n",
              " '1314489390924623872',\n",
              " '1314942943396990978',\n",
              " '1316057933164228620',\n",
              " '1322786626624319489',\n",
              " '1340055256453971969',\n",
              " '1343109962667413504',\n",
              " '1344821826959110144',\n",
              " '1344859679877332995',\n",
              " '1350674022661451776',\n",
              " '1359910048151969801',\n",
              " '1361636579240935427',\n",
              " '1364981724480856065',\n",
              " '1367364932203933698',\n",
              " '1368242633642893312',\n",
              " '1383732403559014406',\n",
              " '1387644646675861504',\n",
              " '1398677823137665025',\n",
              " '1401560522533703687',\n",
              " '1402127482413748225',\n",
              " '1404168791660105734',\n",
              " '1404174421011537922',\n",
              " '1405979612912422914',\n",
              " '1416297774014898176',\n",
              " '1427944224029347840',\n",
              " '1431921096379539463',\n",
              " '1437011065976483841',\n",
              " '1439563278049370118',\n",
              " '1441423417140469764',\n",
              " '1444636497211133960',\n",
              " '1464086995211325440',\n",
              " '1469527410345345026',\n",
              " '1470052446541991938',\n",
              " '1471854387291066370',\n",
              " '1476829045702545409',\n",
              " '1482355518853513225',\n",
              " '1482357645285933061',\n",
              " '1484106680820711428',\n",
              " '1488115999287111681',\n",
              " '1491343611551948801',\n",
              " '1506286802059022348',\n",
              " '1518037152021434368',\n",
              " '1627546478',\n",
              " '190607413',\n",
              " '2237945742',\n",
              " '2574433491',\n",
              " '291264324',\n",
              " '322559453',\n",
              " '362938310',\n",
              " '3843858432',\n",
              " '514719169',\n",
              " '54159605',\n",
              " '720329174259359744',\n",
              " '732594320067330048',\n",
              " '737565545168412673',\n",
              " '826573758299328514',\n",
              " '845965404698804225',\n",
              " '876484297259200513',\n",
              " '880615525444853760',\n",
              " '897436582130589697',\n",
              " '898550082001190912',\n",
              " '900695114535682048',\n",
              " '95202613',\n",
              " '954946993633316864',\n",
              " '968736722812047362',\n",
              " '995358135207448576'}"
            ]
          },
          "metadata": {},
          "execution_count": 21
        }
      ]
    },
    {
      "cell_type": "code",
      "source": [
        "df_cji == df_mra"
      ],
      "metadata": {
        "id": "bq8w5tJZSQxx",
        "colab": {
          "base_uri": "https://localhost:8080/",
          "height": 423
        },
        "outputId": "cf5f57eb-e405-4ab4-b8af-44547608c23b"
      },
      "execution_count": null,
      "outputs": [
        {
          "output_type": "execute_result",
          "data": {
            "text/plain": [
              "        author_id  text\n",
              "0            True  True\n",
              "1            True  True\n",
              "2            True  True\n",
              "3            True  True\n",
              "4            True  True\n",
              "...           ...   ...\n",
              "609165       True  True\n",
              "609166       True  True\n",
              "609167       True  True\n",
              "609168       True  True\n",
              "609169       True  True\n",
              "\n",
              "[609170 rows x 2 columns]"
            ],
            "text/html": [
              "\n",
              "\n",
              "  <div id=\"df-1736e5cb-8fdc-4d7c-a84c-7e69290046c9\">\n",
              "    <div class=\"colab-df-container\">\n",
              "      <div>\n",
              "<style scoped>\n",
              "    .dataframe tbody tr th:only-of-type {\n",
              "        vertical-align: middle;\n",
              "    }\n",
              "\n",
              "    .dataframe tbody tr th {\n",
              "        vertical-align: top;\n",
              "    }\n",
              "\n",
              "    .dataframe thead th {\n",
              "        text-align: right;\n",
              "    }\n",
              "</style>\n",
              "<table border=\"1\" class=\"dataframe\">\n",
              "  <thead>\n",
              "    <tr style=\"text-align: right;\">\n",
              "      <th></th>\n",
              "      <th>author_id</th>\n",
              "      <th>text</th>\n",
              "    </tr>\n",
              "  </thead>\n",
              "  <tbody>\n",
              "    <tr>\n",
              "      <th>0</th>\n",
              "      <td>True</td>\n",
              "      <td>True</td>\n",
              "    </tr>\n",
              "    <tr>\n",
              "      <th>1</th>\n",
              "      <td>True</td>\n",
              "      <td>True</td>\n",
              "    </tr>\n",
              "    <tr>\n",
              "      <th>2</th>\n",
              "      <td>True</td>\n",
              "      <td>True</td>\n",
              "    </tr>\n",
              "    <tr>\n",
              "      <th>3</th>\n",
              "      <td>True</td>\n",
              "      <td>True</td>\n",
              "    </tr>\n",
              "    <tr>\n",
              "      <th>4</th>\n",
              "      <td>True</td>\n",
              "      <td>True</td>\n",
              "    </tr>\n",
              "    <tr>\n",
              "      <th>...</th>\n",
              "      <td>...</td>\n",
              "      <td>...</td>\n",
              "    </tr>\n",
              "    <tr>\n",
              "      <th>609165</th>\n",
              "      <td>True</td>\n",
              "      <td>True</td>\n",
              "    </tr>\n",
              "    <tr>\n",
              "      <th>609166</th>\n",
              "      <td>True</td>\n",
              "      <td>True</td>\n",
              "    </tr>\n",
              "    <tr>\n",
              "      <th>609167</th>\n",
              "      <td>True</td>\n",
              "      <td>True</td>\n",
              "    </tr>\n",
              "    <tr>\n",
              "      <th>609168</th>\n",
              "      <td>True</td>\n",
              "      <td>True</td>\n",
              "    </tr>\n",
              "    <tr>\n",
              "      <th>609169</th>\n",
              "      <td>True</td>\n",
              "      <td>True</td>\n",
              "    </tr>\n",
              "  </tbody>\n",
              "</table>\n",
              "<p>609170 rows × 2 columns</p>\n",
              "</div>\n",
              "      <button class=\"colab-df-convert\" onclick=\"convertToInteractive('df-1736e5cb-8fdc-4d7c-a84c-7e69290046c9')\"\n",
              "              title=\"Convert this dataframe to an interactive table.\"\n",
              "              style=\"display:none;\">\n",
              "\n",
              "  <svg xmlns=\"http://www.w3.org/2000/svg\" height=\"24px\"viewBox=\"0 0 24 24\"\n",
              "       width=\"24px\">\n",
              "    <path d=\"M0 0h24v24H0V0z\" fill=\"none\"/>\n",
              "    <path d=\"M18.56 5.44l.94 2.06.94-2.06 2.06-.94-2.06-.94-.94-2.06-.94 2.06-2.06.94zm-11 1L8.5 8.5l.94-2.06 2.06-.94-2.06-.94L8.5 2.5l-.94 2.06-2.06.94zm10 10l.94 2.06.94-2.06 2.06-.94-2.06-.94-.94-2.06-.94 2.06-2.06.94z\"/><path d=\"M17.41 7.96l-1.37-1.37c-.4-.4-.92-.59-1.43-.59-.52 0-1.04.2-1.43.59L10.3 9.45l-7.72 7.72c-.78.78-.78 2.05 0 2.83L4 21.41c.39.39.9.59 1.41.59.51 0 1.02-.2 1.41-.59l7.78-7.78 2.81-2.81c.8-.78.8-2.07 0-2.86zM5.41 20L4 18.59l7.72-7.72 1.47 1.35L5.41 20z\"/>\n",
              "  </svg>\n",
              "      </button>\n",
              "\n",
              "\n",
              "\n",
              "    <div id=\"df-9c460c86-3104-403f-a445-5b8041321aa7\">\n",
              "      <button class=\"colab-df-quickchart\" onclick=\"quickchart('df-9c460c86-3104-403f-a445-5b8041321aa7')\"\n",
              "              title=\"Suggest charts.\"\n",
              "              style=\"display:none;\">\n",
              "\n",
              "<svg xmlns=\"http://www.w3.org/2000/svg\" height=\"24px\"viewBox=\"0 0 24 24\"\n",
              "     width=\"24px\">\n",
              "    <g>\n",
              "        <path d=\"M19 3H5c-1.1 0-2 .9-2 2v14c0 1.1.9 2 2 2h14c1.1 0 2-.9 2-2V5c0-1.1-.9-2-2-2zM9 17H7v-7h2v7zm4 0h-2V7h2v10zm4 0h-2v-4h2v4z\"/>\n",
              "    </g>\n",
              "</svg>\n",
              "      </button>\n",
              "    </div>\n",
              "\n",
              "<style>\n",
              "  .colab-df-quickchart {\n",
              "    background-color: #E8F0FE;\n",
              "    border: none;\n",
              "    border-radius: 50%;\n",
              "    cursor: pointer;\n",
              "    display: none;\n",
              "    fill: #1967D2;\n",
              "    height: 32px;\n",
              "    padding: 0 0 0 0;\n",
              "    width: 32px;\n",
              "  }\n",
              "\n",
              "  .colab-df-quickchart:hover {\n",
              "    background-color: #E2EBFA;\n",
              "    box-shadow: 0px 1px 2px rgba(60, 64, 67, 0.3), 0px 1px 3px 1px rgba(60, 64, 67, 0.15);\n",
              "    fill: #174EA6;\n",
              "  }\n",
              "\n",
              "  [theme=dark] .colab-df-quickchart {\n",
              "    background-color: #3B4455;\n",
              "    fill: #D2E3FC;\n",
              "  }\n",
              "\n",
              "  [theme=dark] .colab-df-quickchart:hover {\n",
              "    background-color: #434B5C;\n",
              "    box-shadow: 0px 1px 3px 1px rgba(0, 0, 0, 0.15);\n",
              "    filter: drop-shadow(0px 1px 2px rgba(0, 0, 0, 0.3));\n",
              "    fill: #FFFFFF;\n",
              "  }\n",
              "</style>\n",
              "\n",
              "    <script>\n",
              "      async function quickchart(key) {\n",
              "        const containerElement = document.querySelector('#' + key);\n",
              "        const charts = await google.colab.kernel.invokeFunction(\n",
              "            'suggestCharts', [key], {});\n",
              "      }\n",
              "    </script>\n",
              "\n",
              "      <script>\n",
              "\n",
              "function displayQuickchartButton(domScope) {\n",
              "  let quickchartButtonEl =\n",
              "    domScope.querySelector('#df-9c460c86-3104-403f-a445-5b8041321aa7 button.colab-df-quickchart');\n",
              "  quickchartButtonEl.style.display =\n",
              "    google.colab.kernel.accessAllowed ? 'block' : 'none';\n",
              "}\n",
              "\n",
              "        displayQuickchartButton(document);\n",
              "      </script>\n",
              "      <style>\n",
              "    .colab-df-container {\n",
              "      display:flex;\n",
              "      flex-wrap:wrap;\n",
              "      gap: 12px;\n",
              "    }\n",
              "\n",
              "    .colab-df-convert {\n",
              "      background-color: #E8F0FE;\n",
              "      border: none;\n",
              "      border-radius: 50%;\n",
              "      cursor: pointer;\n",
              "      display: none;\n",
              "      fill: #1967D2;\n",
              "      height: 32px;\n",
              "      padding: 0 0 0 0;\n",
              "      width: 32px;\n",
              "    }\n",
              "\n",
              "    .colab-df-convert:hover {\n",
              "      background-color: #E2EBFA;\n",
              "      box-shadow: 0px 1px 2px rgba(60, 64, 67, 0.3), 0px 1px 3px 1px rgba(60, 64, 67, 0.15);\n",
              "      fill: #174EA6;\n",
              "    }\n",
              "\n",
              "    [theme=dark] .colab-df-convert {\n",
              "      background-color: #3B4455;\n",
              "      fill: #D2E3FC;\n",
              "    }\n",
              "\n",
              "    [theme=dark] .colab-df-convert:hover {\n",
              "      background-color: #434B5C;\n",
              "      box-shadow: 0px 1px 3px 1px rgba(0, 0, 0, 0.15);\n",
              "      filter: drop-shadow(0px 1px 2px rgba(0, 0, 0, 0.3));\n",
              "      fill: #FFFFFF;\n",
              "    }\n",
              "  </style>\n",
              "\n",
              "      <script>\n",
              "        const buttonEl =\n",
              "          document.querySelector('#df-1736e5cb-8fdc-4d7c-a84c-7e69290046c9 button.colab-df-convert');\n",
              "        buttonEl.style.display =\n",
              "          google.colab.kernel.accessAllowed ? 'block' : 'none';\n",
              "\n",
              "        async function convertToInteractive(key) {\n",
              "          const element = document.querySelector('#df-1736e5cb-8fdc-4d7c-a84c-7e69290046c9');\n",
              "          const dataTable =\n",
              "            await google.colab.kernel.invokeFunction('convertToInteractive',\n",
              "                                                     [key], {});\n",
              "          if (!dataTable) return;\n",
              "\n",
              "          const docLinkHtml = 'Like what you see? Visit the ' +\n",
              "            '<a target=\"_blank\" href=https://colab.research.google.com/notebooks/data_table.ipynb>data table notebook</a>'\n",
              "            + ' to learn more about interactive tables.';\n",
              "          element.innerHTML = '';\n",
              "          dataTable['output_type'] = 'display_data';\n",
              "          await google.colab.output.renderOutput(dataTable, element);\n",
              "          const docLink = document.createElement('div');\n",
              "          docLink.innerHTML = docLinkHtml;\n",
              "          element.appendChild(docLink);\n",
              "        }\n",
              "      </script>\n",
              "    </div>\n",
              "  </div>\n"
            ]
          },
          "metadata": {},
          "execution_count": 39
        }
      ]
    },
    {
      "cell_type": "markdown",
      "source": [
        "## Get wordclouds for BB-MRA and BB-CJI data"
      ],
      "metadata": {
        "id": "rGY2wU6j5GXo"
      }
    },
    {
      "cell_type": "code",
      "source": [
        "!pip3 install wordcloud"
      ],
      "metadata": {
        "colab": {
          "base_uri": "https://localhost:8080/"
        },
        "id": "8suYYbw-55qi",
        "outputId": "3e24b1f4-3d7b-47fa-cda4-ecdac4e4b7de"
      },
      "execution_count": null,
      "outputs": [
        {
          "output_type": "stream",
          "name": "stdout",
          "text": [
            "Requirement already satisfied: wordcloud in /usr/local/lib/python3.10/dist-packages (1.9.2)\n",
            "Requirement already satisfied: numpy>=1.6.1 in /usr/local/lib/python3.10/dist-packages (from wordcloud) (1.23.5)\n",
            "Requirement already satisfied: pillow in /usr/local/lib/python3.10/dist-packages (from wordcloud) (9.4.0)\n",
            "Requirement already satisfied: matplotlib in /usr/local/lib/python3.10/dist-packages (from wordcloud) (3.7.1)\n",
            "Requirement already satisfied: contourpy>=1.0.1 in /usr/local/lib/python3.10/dist-packages (from matplotlib->wordcloud) (1.1.0)\n",
            "Requirement already satisfied: cycler>=0.10 in /usr/local/lib/python3.10/dist-packages (from matplotlib->wordcloud) (0.11.0)\n",
            "Requirement already satisfied: fonttools>=4.22.0 in /usr/local/lib/python3.10/dist-packages (from matplotlib->wordcloud) (4.42.0)\n",
            "Requirement already satisfied: kiwisolver>=1.0.1 in /usr/local/lib/python3.10/dist-packages (from matplotlib->wordcloud) (1.4.4)\n",
            "Requirement already satisfied: packaging>=20.0 in /usr/local/lib/python3.10/dist-packages (from matplotlib->wordcloud) (23.1)\n",
            "Requirement already satisfied: pyparsing>=2.3.1 in /usr/local/lib/python3.10/dist-packages (from matplotlib->wordcloud) (3.1.1)\n",
            "Requirement already satisfied: python-dateutil>=2.7 in /usr/local/lib/python3.10/dist-packages (from matplotlib->wordcloud) (2.8.2)\n",
            "Requirement already satisfied: six>=1.5 in /usr/local/lib/python3.10/dist-packages (from python-dateutil>=2.7->matplotlib->wordcloud) (1.16.0)\n"
          ]
        }
      ]
    },
    {
      "cell_type": "code",
      "source": [
        "#############################################\n",
        "#NO NEED TO RUN PREVIOUS CODE. RUN FROM HERE.\n",
        "#HERE WE GET BRIDGE TWEETS AND NAMES AS WELL.\n",
        "#############################################\n",
        "#pickle.dump(df_BB_MRA_bridges,open(path2+\"BB_MRA_bridges.pickle\",\"wb\"))\n",
        "#pickle.dump(df_BB_CJI_bridges,open(path2+\"BB_CJI_bridges.pickle\",\"wb\"))\n",
        "import pickle\n",
        "\n",
        "df_BB_MRA_bridges = pickle.load(open(path3+\"BB_MRA_bridges.pickle\",\"rb\"))\n",
        "df_BB_CJI_bridges = pickle.load(open(path3+\"BB_CJI_bridges.pickle\",\"rb\"))"
      ],
      "metadata": {
        "id": "H0b6vimKpQT7"
      },
      "execution_count": null,
      "outputs": []
    },
    {
      "cell_type": "code",
      "source": [
        "#Since there are too few tweets on BB from the bridge nodes, we are sampling the data for class balance\n",
        "import pandas as pd\n",
        "df_BB_MRA_bridges = df_BB_MRA_bridges.reset_index(drop=True)\n",
        "df_BB_MRA_bridges1 = df_BB_MRA_bridges.loc[(df_BB_MRA_bridges['text'].str.lower().str.contains('boycottbollywood'))|(df_BB_MRA_bridges['text'].str.lower().str.contains('bollywood'))].sample(n=200)\n",
        "df_BB_MRA_bridges2 = df_BB_MRA_bridges.loc[(df_BB_MRA_bridges['text'].str.lower().str.contains('marriagestrike'))|(df_BB_MRA_bridges['text'].str.lower().str.contains('boycottmarriage'))].sample(n=200)\n",
        "df_BB_MRA_bridges = pd.concat([df_BB_MRA_bridges1,df_BB_MRA_bridges2],axis=0)\n",
        "\n",
        "df_BB_CJI_bridges = df_BB_CJI_bridges.reset_index(drop=True)\n",
        "df_BB_CJI_bridges1 = df_BB_CJI_bridges.loc[(df_BB_CJI_bridges['text'].str.lower().str.contains('kashmir'))|(df_BB_CJI_bridges['text'].str.lower().str.contains('boycottbollywood'))|(df_BB_CJI_bridges['text'].str.lower().str.contains('bollywood'))].sample(n=200)\n",
        "df_BB_CJI_bridges2 = df_BB_CJI_bridges.loc[(df_BB_CJI_bridges['text'].str.lower().str.contains('notmycji'))|(df_BB_CJI_bridges['text'].str.lower().str.contains('judiciarymustapologize'))|(df_BB_CJI_bridges['text'].str.lower().str.contains('genderbiasedlaw'))].sample(n=200)\n",
        "df_BB_CJI_bridges = pd.concat([df_BB_CJI_bridges1,df_BB_CJI_bridges2],axis=0)"
      ],
      "metadata": {
        "id": "ickKD3fnhmIz"
      },
      "execution_count": null,
      "outputs": []
    },
    {
      "cell_type": "code",
      "source": [],
      "metadata": {
        "id": "zhyK_set744F"
      },
      "execution_count": null,
      "outputs": []
    },
    {
      "cell_type": "code",
      "source": [
        "#df_BB_CJI_bridges.loc[(df_BB_CJI_bridges['text'].str.contains('kashmir'))|(df_BB_CJI_bridges['text'].str.contains('boycottbollywood'))|(df_BB_CJI_bridges['text'].str.contains('bollywood'))]\n",
        "#df_BB_MRA_bridges.loc[(df_BB_MRA_bridges['text'].str.lower().str.contains('boycottbollywood'))|(df_BB_MRA_bridges['text'].str.lower().str.contains('bollywood'))]"
      ],
      "metadata": {
        "id": "IJNVy73N7iMb"
      },
      "execution_count": null,
      "outputs": []
    },
    {
      "cell_type": "code",
      "source": [
        "path2 = 'drive/My Drive/MSR/ACM COMPASS 2023/'\n",
        "df_pol = pd.read_excel(path2+\"politicians.xlsx\")"
      ],
      "metadata": {
        "id": "uN_Y32a6Dkvq",
        "colab": {
          "base_uri": "https://localhost:8080/",
          "height": 193
        },
        "outputId": "90efbd53-039a-49c0-bc63-73fa6399303a"
      },
      "execution_count": null,
      "outputs": [
        {
          "output_type": "error",
          "ename": "NameError",
          "evalue": "ignored",
          "traceback": [
            "\u001b[0;31m---------------------------------------------------------------------------\u001b[0m",
            "\u001b[0;31mNameError\u001b[0m                                 Traceback (most recent call last)",
            "\u001b[0;32m<ipython-input-3-ea602cd91b2e>\u001b[0m in \u001b[0;36m<cell line: 2>\u001b[0;34m()\u001b[0m\n\u001b[1;32m      1\u001b[0m \u001b[0mpath2\u001b[0m \u001b[0;34m=\u001b[0m \u001b[0;34m'drive/My Drive/MSR/ACM COMPASS 2023/'\u001b[0m\u001b[0;34m\u001b[0m\u001b[0;34m\u001b[0m\u001b[0m\n\u001b[0;32m----> 2\u001b[0;31m \u001b[0mdf_pol\u001b[0m \u001b[0;34m=\u001b[0m \u001b[0mpd\u001b[0m\u001b[0;34m.\u001b[0m\u001b[0mread_excel\u001b[0m\u001b[0;34m(\u001b[0m\u001b[0mpath2\u001b[0m\u001b[0;34m+\u001b[0m\u001b[0;34m\"politicians.xlsx\"\u001b[0m\u001b[0;34m)\u001b[0m\u001b[0;34m\u001b[0m\u001b[0;34m\u001b[0m\u001b[0m\n\u001b[0m",
            "\u001b[0;31mNameError\u001b[0m: name 'pd' is not defined"
          ]
        }
      ]
    },
    {
      "cell_type": "code",
      "source": [
        "'kirenrijiju' in df_pol['username'].str.lower().unique()"
      ],
      "metadata": {
        "colab": {
          "base_uri": "https://localhost:8080/"
        },
        "id": "uRQTXT0UEa3c",
        "outputId": "2f8cdeec-a9f7-436d-9ddc-e1ccd655c2b5"
      },
      "execution_count": null,
      "outputs": [
        {
          "output_type": "execute_result",
          "data": {
            "text/plain": [
              "True"
            ]
          },
          "metadata": {},
          "execution_count": 6
        }
      ]
    },
    {
      "cell_type": "code",
      "source": [
        "# importing all necessary modules\n",
        "import pandas as pd\n",
        "from wordcloud import WordCloud, STOPWORDS\n",
        "import matplotlib.pyplot as plt\n",
        "path2 = 'drive/My Drive/MSR/ACM COMPASS 2023/'\n",
        "df_pol = pd.read_excel(path2+\"politicians.xlsx\")\n",
        "\n",
        "\n",
        "def get_wordcloud_string(df):\n",
        "  #try:\n",
        "  df = df.reset_index(drop=True)\n",
        "  #except:\n",
        "  #  print(\"DF already indexed.\")\n",
        "  string = ''\n",
        "  string_mentions = ' '\n",
        "  for i in range(0,df.shape[0]):\n",
        "    #print(df['text'][i])\n",
        "    #print(df)\n",
        "    text = df['text'][i].lower()\n",
        "    try:\n",
        "      text2 = text.split(':')[1]\n",
        "    except:\n",
        "      text2 = text\n",
        "    #print('%%%')\n",
        "    #print(text2)\n",
        "    text_set = set(text2.split(' '))\n",
        "    mentions_l=[]\n",
        "    #Get the mentions for this tweet\n",
        "    for word in list(text_set):\n",
        "      if len(word)>0:\n",
        "        if word[0]=='@':\n",
        "          mention = word[1:len(word)]\n",
        "          #print(\"Searching:\")\n",
        "          #print(mention.lower())\n",
        "          #if mention.lower() in df_pol['username'].str.lower().unique():\n",
        "          mentions_l.append(mention)\n",
        "\n",
        "\n",
        "    text_set = text_set.difference(STOPWORDS)\n",
        "    string+=' '.join(list(text_set))\n",
        "    string_mentions+=' '.join(mentions_l)\n",
        "    #print(text_set)\n",
        "    #break\n",
        "  string = ' '.join(list(set(string.split(' '))))\n",
        "  string = string.replace('//t.co/',' ')\n",
        "  string = string.replace('https',' ')\n",
        "  string = string.replace('http',' ')\n",
        "  return string,string_mentions\n",
        "\n",
        "#string = get_wordcloud_string(df_BB_MRA_bridges)\n",
        "string,string_mentions = get_wordcloud_string(df_BB_CJI_bridges)\n",
        "\n",
        "wordcloud = WordCloud(width = 800, height = 800,\n",
        "                background_color ='white',\n",
        "                stopwords = STOPWORDS,\n",
        "                min_font_size = 10,collocations=False).generate(string)\n",
        "\n",
        "# plot the WordCloud image\n",
        "plt.figure(figsize = (4, 10), facecolor = None)\n",
        "plt.imshow(wordcloud)\n",
        "plt.axis(\"off\")\n",
        "plt.tight_layout(pad = 0)\n",
        "\n",
        "wordcloud = WordCloud(width = 400, height = 400,\n",
        "                background_color ='white',\n",
        "                stopwords = STOPWORDS,\n",
        "                min_font_size = 10,collocations=False).generate(string_mentions)\n",
        "\n",
        "# plot the WordCloud image\n",
        "plt.figure(figsize = (4, 10), facecolor = None)\n",
        "plt.imshow(wordcloud)\n",
        "plt.axis(\"off\")\n",
        "plt.tight_layout(pad = 0)\n",
        "\n"
      ],
      "metadata": {
        "colab": {
          "base_uri": "https://localhost:8080/",
          "height": 855
        },
        "id": "Cm8dFcPY5Ft5",
        "outputId": "b5b92be8-98e6-48d4-fb0f-3efafdf5a2b6"
      },
      "execution_count": null,
      "outputs": [
        {
          "output_type": "display_data",
          "data": {
            "text/plain": [
              "<Figure size 400x1000 with 1 Axes>"
            ],
            "image/png": "[encoded data removed]"
          },
          "metadata": {}
        },
        {
          "output_type": "display_data",
          "data": {
            "text/plain": [
              "<Figure size 400x1000 with 1 Axes>"
            ],
            "image/png": "[encoded data removed]"
          },
          "metadata": {}
        }
      ]
    },
    {
      "cell_type": "code",
      "source": [
        "df_BB_CJI_bridges = df_BB_CJI_bridges.reset_index(drop=True)"
      ],
      "metadata": {
        "id": "iASCPdU4OMtQ"
      },
      "execution_count": null,
      "outputs": []
    },
    {
      "cell_type": "code",
      "source": [
        "import pandas as pd\n",
        "#df_BB_MRA_bridges.loc[df_BB_MRA_bridges['text'].str.contains('men')].shape\n",
        "\n",
        "#df_BB_MRA_bridges.columns\n",
        "# Convert the date to datetime64\n",
        "df_BB_MRA_bridges['created_at'] = pd.to_datetime(df_BB_MRA_bridges['created_at'], format='%Y-%m-%d').dt.date\n",
        "#df_BB_MRA_bridges = df_BB_MRA_bridges.query(\"created_at >= '2021-11-01'and created_at < '2021-11-31'\")\n",
        "df_BB_MRA_bridges = df_BB_MRA_bridges.loc[(df_BB_MRA_bridges['created_at'] > datetime.strptime('2021-11-01', '%Y-%m-%d').date()) & (df_BB_MRA_bridges['created_at'] < datetime.strptime('2021-11-30', '%Y-%m-%d').date())]\n",
        "#type(df_BB_MRA_bridges['created_at'][0])\n",
        "df_BB_MRA_bridges.tail()"
      ],
      "metadata": {
        "colab": {
          "base_uri": "https://localhost:8080/",
          "height": 263
        },
        "id": "nPd0AymZ-v6P",
        "outputId": "a2c0fafd-c698-41ed-f13c-4908806956ea"
      },
      "execution_count": null,
      "outputs": [
        {
          "output_type": "error",
          "ename": "NameError",
          "evalue": "ignored",
          "traceback": [
            "\u001b[0;31m---------------------------------------------------------------------------\u001b[0m",
            "\u001b[0;31mNameError\u001b[0m                                 Traceback (most recent call last)",
            "\u001b[0;32m<ipython-input-9-4372993f74e3>\u001b[0m in \u001b[0;36m<cell line: 8>\u001b[0;34m()\u001b[0m\n\u001b[1;32m      6\u001b[0m \u001b[0mdf_BB_MRA_bridges\u001b[0m\u001b[0;34m[\u001b[0m\u001b[0;34m'created_at'\u001b[0m\u001b[0;34m]\u001b[0m \u001b[0;34m=\u001b[0m \u001b[0mpd\u001b[0m\u001b[0;34m.\u001b[0m\u001b[0mto_datetime\u001b[0m\u001b[0;34m(\u001b[0m\u001b[0mdf_BB_MRA_bridges\u001b[0m\u001b[0;34m[\u001b[0m\u001b[0;34m'created_at'\u001b[0m\u001b[0;34m]\u001b[0m\u001b[0;34m,\u001b[0m \u001b[0mformat\u001b[0m\u001b[0;34m=\u001b[0m\u001b[0;34m'%Y-%m-%d'\u001b[0m\u001b[0;34m)\u001b[0m\u001b[0;34m.\u001b[0m\u001b[0mdt\u001b[0m\u001b[0;34m.\u001b[0m\u001b[0mdate\u001b[0m\u001b[0;34m\u001b[0m\u001b[0;34m\u001b[0m\u001b[0m\n\u001b[1;32m      7\u001b[0m \u001b[0;31m#df_BB_MRA_bridges = df_BB_MRA_bridges.query(\"created_at >= '2021-11-01'and created_at < '2021-11-31'\")\u001b[0m\u001b[0;34m\u001b[0m\u001b[0;34m\u001b[0m\u001b[0m\n\u001b[0;32m----> 8\u001b[0;31m \u001b[0mdf_BB_MRA_bridges\u001b[0m \u001b[0;34m=\u001b[0m \u001b[0mdf_BB_MRA_bridges\u001b[0m\u001b[0;34m.\u001b[0m\u001b[0mloc\u001b[0m\u001b[0;34m[\u001b[0m\u001b[0;34m(\u001b[0m\u001b[0mdf_BB_MRA_bridges\u001b[0m\u001b[0;34m[\u001b[0m\u001b[0;34m'created_at'\u001b[0m\u001b[0;34m]\u001b[0m \u001b[0;34m>\u001b[0m \u001b[0mdatetime\u001b[0m\u001b[0;34m.\u001b[0m\u001b[0mstrptime\u001b[0m\u001b[0;34m(\u001b[0m\u001b[0;34m'2021-11-01'\u001b[0m\u001b[0;34m,\u001b[0m \u001b[0;34m'%Y-%m-%d'\u001b[0m\u001b[0;34m)\u001b[0m\u001b[0;34m.\u001b[0m\u001b[0mdate\u001b[0m\u001b[0;34m(\u001b[0m\u001b[0;34m)\u001b[0m\u001b[0;34m)\u001b[0m \u001b[0;34m&\u001b[0m \u001b[0;34m(\u001b[0m\u001b[0mdf_BB_MRA_bridges\u001b[0m\u001b[0;34m[\u001b[0m\u001b[0;34m'created_at'\u001b[0m\u001b[0;34m]\u001b[0m \u001b[0;34m<\u001b[0m \u001b[0mdatetime\u001b[0m\u001b[0;34m.\u001b[0m\u001b[0mstrptime\u001b[0m\u001b[0;34m(\u001b[0m\u001b[0;34m'2021-11-30'\u001b[0m\u001b[0;34m,\u001b[0m \u001b[0;34m'%Y-%m-%d'\u001b[0m\u001b[0;34m)\u001b[0m\u001b[0;34m.\u001b[0m\u001b[0mdate\u001b[0m\u001b[0;34m(\u001b[0m\u001b[0;34m)\u001b[0m\u001b[0;34m)\u001b[0m\u001b[0;34m]\u001b[0m\u001b[0;34m\u001b[0m\u001b[0;34m\u001b[0m\u001b[0m\n\u001b[0m\u001b[1;32m      9\u001b[0m \u001b[0;31m#type(df_BB_MRA_bridges['created_at'][0])\u001b[0m\u001b[0;34m\u001b[0m\u001b[0;34m\u001b[0m\u001b[0m\n\u001b[1;32m     10\u001b[0m \u001b[0mdf_BB_MRA_bridges\u001b[0m\u001b[0;34m.\u001b[0m\u001b[0mtail\u001b[0m\u001b[0;34m(\u001b[0m\u001b[0;34m)\u001b[0m\u001b[0;34m\u001b[0m\u001b[0;34m\u001b[0m\u001b[0m\n",
            "\u001b[0;31mNameError\u001b[0m: name 'datetime' is not defined"
          ]
        }
      ]
    },
    {
      "cell_type": "code",
      "source": [
        "from datetime import datetime\n",
        "datetime.strptime('2021-11-30', '%Y-%m-%d').date()#()"
      ],
      "metadata": {
        "id": "six5_igSM7a9"
      },
      "execution_count": null,
      "outputs": []
    }
  ],
  "metadata": {
    "colab": {
      "provenance": [],
      "authorship_tag": "ABX9TyPYSMU/1xNFZ4ld0nOVM/kj",
      "include_colab_link": true
    },
    "kernelspec": {
      "display_name": "Python 3",
      "name": "python3"
    },
    "language_info": {
      "name": "python"
    }
  },
  "nbformat": 4,
  "nbformat_minor": 0
}